{
 "cells": [
  {
   "cell_type": "markdown",
   "metadata": {},
   "source": [
    "# 11번가 유아식 Crawling"
   ]
  },
  {
   "cell_type": "code",
   "execution_count": 1,
   "metadata": {},
   "outputs": [],
   "source": [
    "from selenium import webdriver as wd\n",
    "from bs4 import BeautifulSoup as bs\n",
    "from selenium.webdriver.support.ui import WebDriverWait\n",
    "from selenium.webdriver.support import expected_conditions as EC"
   ]
  },
  {
   "cell_type": "markdown",
   "metadata": {},
   "source": [
    "## Step1 \n",
    "- best100 link(seed_url) 가져오기"
   ]
  },
  {
   "cell_type": "code",
   "execution_count": 4,
   "metadata": {},
   "outputs": [],
   "source": [
    "main_url = \"http://www.11st.co.kr/browsing/BestSeller.tmall?method=getBestSellerMain&dispCtgrNo=1001574\""
   ]
  },
  {
   "cell_type": "code",
   "execution_count": 44,
   "metadata": {},
   "outputs": [],
   "source": [
    "# 드라이버 로드\n",
    "driver = wd.Chrome(executable_path='chromedriver.exe')"
   ]
  },
  {
   "cell_type": "code",
   "execution_count": 45,
   "metadata": {},
   "outputs": [],
   "source": [
    "driver.get(main_url)"
   ]
  },
  {
   "cell_type": "code",
   "execution_count": 46,
   "metadata": {},
   "outputs": [],
   "source": [
    "html = bs(driver.page_source, \"lxml\")"
   ]
  },
  {
   "cell_type": "code",
   "execution_count": 8,
   "metadata": {},
   "outputs": [
    {
     "data": {
      "text/plain": [
       "<!DOCTYPE html PUBLIC \"-//W3C//DTD HTML 4.01 Transitional//EN\" \"http://www.w3.org/TR/html4/loose.dtd\">\n",
       "<html class=\"fiexible_resize\" lang=\"ko\" xmlns=\"http://www.w3.org/1999/xhtml\"><head><script async=\"\" src=\"http://www.google-analytics.com/plugins/ua/ec.js\" type=\"text/javascript\"></script><script async=\"\" src=\"http://www.google-analytics.com/analytics.js\" type=\"text/javascript\"></script><script async=\"\" src=\"https://rake.skplanet.com:443/log/static/js/rake/current/rake.bundle.js\" type=\"text/javascript\"></script>\n",
       "<title>11번가 베스트 - 11번가</title>\n",
       "<meta content=\"Upgrade Your Life - 11번가\" name=\"description\"/>\n",
       "<meta content=\"Upgrade Your Life - 11번가\" name=\"keywords\"/>\n",
       "<meta content=\"text/html; charset=utf-8\" http-equiv=\"Content-Type\"/>\n",
       "<meta content=\"IE=edge\" http-equiv=\"X-UA-Compatible\"/>\n",
       "<script async=\"\" src=\"//www.googletagmanager.com/gtm.js?id=GTM-P3PMQD&amp;l=GA_dataLayer\"></script><script async=\"\" src=\"//www.google-analytics.com/analytics.js\"></script><script src=\"//c.011st.com/html/experiment/experimentMetaInfo.js\" type=\"text/javascript\"></script>\n",
       "<script src=\"//c.011st.com/js/plab/plab-weblib.min.js?201805241100\" type=\"text/javascript\"></script>\n",
       "<script>\n",
       "\n",
       "    var plabPageKey = '/11st_best/category';\n",
       "    try{\n",
       "\n",
       "        var params = {\n",
       "            projectKey : \"11st_web\",\n",
       "            domain : \"11st.co.kr\"\n",
       "        };\n",
       "        plab.initBy(params, experimentMetaInfo);\n",
       "\n",
       "    }catch (e) { console.log(e) };\n",
       "\n",
       "\n",
       "</script>\n",
       "<script type=\"text/javascript\">\n",
       "\n",
       "\t// Global Var\n",
       "\tvar _IMG_PATH_  = \"http://www.11st.co.kr\";\n",
       "\tvar _UPLOAD_IMG_PATH_  = \"http://image.11st.co.kr\";\n",
       "\tvar _SSL_UPLOAD_IMG_PATH_ = \"https://www.11st.co.kr/is\";\n",
       "\tvar _ACTION_CONTEXT_  = \"\";\n",
       "\tvar _FILE_UPLOAD_PATH_ = \"http://image.11st.co.kr\";\n",
       "\tvar _GNB_CONTEXT_PATH_ = \"http://www.11st.co.kr\";\n",
       "\tvar _ACTION_CONTEXT_URL_ = \"http://www.11st.co.kr\";\n",
       "\tvar _SSL_ACTION_CONTEXT_URL_ = \"https://www.11st.co.kr\";\n",
       "\tvar _SSL_IMG_PATH_ = \"https://www.11st.co.kr\";\n",
       "\tvar _GLOBAL_CONTEXT_PATH_ = \"http://globalshopping.11st.co.kr\";\n",
       "\tvar _BEAUTY_CONTEXT_PATH_ = \"http://beauty.11st.co.kr\";\n",
       "\tvar _SOHO_CONTEXT_PATH_ = \"http://soho.11st.co.kr\";\n",
       "\tvar _JS_PATH_ = \"//c.011st.com\";\n",
       "\tvar _SSL_JS_PATH_ = \"//c.011st.com\";\n",
       "\n",
       "\tvar _GNB_LOGIN_URL_ = \"https://login.11st.co.kr/login/Login.tmall\";\n",
       "\tvar _GNB_LOGOUT_URL_ = \"https://login.11st.co.kr/login/Logout.tmall\";\n",
       "\tvar _PRODUCT_DETAIL_URL_ = \"http://www.11st.co.kr/product/SellerProductDetail.tmall?method=getSellerProductDetail&amp;prdNo=\";\n",
       "\n",
       "\tvar _ENJOY_SEARCH_VAR_ = \"NONE\";\n",
       "\tvar _ENJOY_SEARCH_KEY_YN_ = \"N\";\n",
       "\n",
       "\tvar _SELLER_SHOP_DOMAIN_ = \"http://shop.11st.co.kr\";\n",
       "\n",
       "\t// 변경 권고\n",
       "\tvar _CSS_URL_\t\t\t= \"//c.011st.com\";\n",
       "\tvar _SSL_CSS_URL_\t\t= \"//c.011st.com\";\n",
       "\tvar _IMG_URL_\t\t\t= \"http://s.011st.com\";\n",
       "\tvar _SSL_IMG_URL_\t\t= \"https://www.11st.co.kr\";\n",
       "\tvar _UPLOAD_URL_\t\t= \"http://i.011st.com\";\n",
       "\tvar _SSL_UPLOAD_URL_\t= \"https://i.011st.com\";\n",
       "\n",
       "\tvar _LOGIN_TARGET_URL_ \t= \"https://login.11st.co.kr\";\n",
       "\n",
       "\t// TZONE Var\n",
       "\tvar _TZONE_URL_\t\t\t= \"http://skt.11st.co.kr\";\n",
       "\tvar _TZONE_URL_HOME_\t= \"http://skt.11st.co.kr/html/tzone/tZoneMain.html\";\n",
       "\tvar _SELLER_URL_\t\t= \"http://seller.11st.co.kr\";\n",
       "\tvar _SOFFICE_URL_\t\t= \"http://soffice.11st.co.kr\";\n",
       "\tvar _DS_URL_\t\t\t= \"http://ds.11st.co.kr\";\n",
       "\tvar _MY11ST_URL_\t\t= \"http://buy.11st.co.kr/order/myTmall.tmall?method=getMyTmallMain\";\n",
       "\tvar _SHOPPINGCART_URL_ \t= \"http://buy.11st.co.kr/cart/CartAction.tmall?method=getCartList\";\n",
       "\tvar _MYSELL_URL_ \t\t= \"http://soffice.11st.co.kr\";\n",
       "\tvar _CATEGORY_ACTION_URL_ = \"http://www.11st.co.kr/browsing/Category.tmall\";\n",
       "\tvar _NEW_CATEGORY_ACTION_URL_ = \"http://www.11st.co.kr/browsing/DisplayCategory.tmall\";\n",
       "\tvar _SEARCH_ACTION_URL_ = \"http://search.11st.co.kr/SearchPrdAction.tmall\";\n",
       "\n",
       "\t// TOWN 11st\n",
       "\tvar _TOWN11ST_URL_ \t\t= \"http://town.11st.co.kr\";\n",
       "\tvar _TOWN_PRODUCT_DETAIL_URL_ = \"http://town.11st.co.kr/town/TownProductDetail.tmall?method=getTownProductDetail&amp;prdNo=\";\n",
       "\tvar _TOWN_SHOP_URL_ \t= \"http://town.11st.co.kr/town/TownShopDetail.tmall?method=getTownShopDetail&amp;shopNo=\";\n",
       "\tvar _TOWN_DOMAIN_ \t\t= \"http://town.11st.co.kr\";\n",
       "\tvar _TOWN_SOFFICE_URL_ \t= \"http://town.soffice.11st.co.kr\";\n",
       "\n",
       "\n",
       "\t// Order 11st\n",
       "\tvar _ORDER_IMG_PATH_ \t= \"http://buy.11st.co.kr\";\n",
       "\tvar _ORDER_URL_ \t \t= \"http://buy.11st.co.kr\";\n",
       "\tvar _ORDER_DOMAIN_ \t \t= \"http://buy.11st.co.kr\";\n",
       "\tvar _SSL_ORDER_URL_  \t= \"https://buy.11st.co.kr\";\n",
       "\tvar _SSL_ORDER_IMG_PATH_ = \"https://www.11st.co.kr\";\n",
       "\tvar _ORDER_HIS_URL_\t\t= \"http://buy.11st.co.kr/order/OrderList.tmall\";\n",
       "\n",
       "\t// ShockingDeal 11st (쇼킹딜)\n",
       "\tvar _SHOCKING_DEAL_URL_ = \"http://deal.11st.co.kr\";\n",
       "\t\n",
       "\tvar _SRCH_PARAM_DELIMITER_ = \"@;\";\n",
       "\t\n",
       "\t// 제외 제휴사\n",
       "\tvar _EXCEPT_XSITE_LIST_ = \"|1000014299|1000107070|1000138417|1000111850|1000336402|1000436475|1000601391|1000951353|1001023201|1001023200|1001023199|1001023198|1001023197|1001023196|1001021054|\";\t\t\n",
       "\n",
       "</script>\n",
       "<!-- Template Common Start -->\n",
       "<link href=\"//c.011st.com/css/common/default.css\" rel=\"stylesheet\" type=\"text/css\"/>\n",
       "<!-- Template Common End -->\n",
       "<!-- headSection Start-->\n",
       "<link href=\"//c.011st.com/css/common/listing_v2.css\" rel=\"stylesheet\" type=\"text/css\"/>\n",
       "<link href=\"//c.011st.com/css/browsing/rank11st_v2.css\" rel=\"stylesheet\" type=\"text/css\"/>\n",
       "<script src=\"//c.011st.com/js/rake/RakeData.js\" type=\"text/javascript\"></script>\n",
       "<script>\n",
       "\n",
       "var BestProductLog20 = {\n",
       "\tbindProductLog : function (option) {\n",
       "\t\tvar me = this;\n",
       "\t\tvar prdIndex = 1;\n",
       "\t\t\n",
       "\t\tvar parseData = function (option) {\n",
       "\t\t\t$(option.selector).each(function(idx, obj) {\n",
       "\t\t\t\tvar productData = {};\n",
       "\t\t\t\tvar isContinue = true;\n",
       "\n",
       "\t\t\t\t// prdNo\n",
       "\t\t\t\tif(isContinue) {\n",
       "\t\t\t\t\tvar id = $(obj).children().eq(0).attr('id');\n",
       "\t\t\t\t\tif(id != null &amp;&amp; id != '' &amp;&amp; id.indexOf('thisClick_') &gt;= 0) {\n",
       "\t\t\t\t\t\tvar idArr = id.split('_');\n",
       "\t\t\t\t\t\tproductData.prdNo = idArr[1];\n",
       "\t\t\t\t\t\tproductData.positionL1 = prdIndex++;\n",
       "\t\t\t\t\t} else {\n",
       "\t\t\t\t\t\tisContinue = false;\n",
       "\t\t\t\t\t}\n",
       "\t\t\t\t}\n",
       "\t\t\t\t\n",
       "\t\t\t\t// prdNm\n",
       "\t\t\t\tif(isContinue) {\n",
       "\t\t\t\t\tvar prdNm = $(obj).find('div.product_conts div.pup_info div.pup_title a').html();\n",
       "\t\t\t\t\tif(prdNm != null &amp;&amp; prdNm != '' &amp;&amp; prdNm.length &gt; 0) {\n",
       "\t\t\t\t\t\tproductData.prdNm = prdNm;\n",
       "\t\t\t\t\t} else {\n",
       "\t\t\t\t\t\tisContinue = false;\n",
       "\t\t\t\t\t}\n",
       "\t\t\t\t}\n",
       "\t\t\t\t\n",
       "\t\t\t\t// price\n",
       "\t\t\t\tif(isContinue) {\n",
       "\t\t\t\t\tvar salePrice\t\t= $(obj).find('div.product_conts div.pup_info div.pub_priceW s').html();\n",
       "\t\t\t\t\tvar finalDscPrice\t= $(obj).find('div.product_conts div.pup_info div.pub_priceW strong.pub_salep').html();\n",
       "\t\t\t\t\t\n",
       "\t\t\t\t\tif(finalDscPrice != null &amp;&amp; finalDscPrice != '' &amp;&amp; finalDscPrice.length &gt; 0) {\n",
       "\t\t\t\t\t\tfinalDscPrice = finalDscPrice.replace(\"원\", \"\").replace(\",\", \"\").replace(\"~\", \"\").replace(\" \", \"\");\n",
       "\t\t\t\t\t} else {\n",
       "\t\t\t\t\t\tfinalDscPrice = salePrice.replace(\"원\", \"\").replace(\",\", \"\").replace(\"~\", \"\").replace(\" \", \"\");\n",
       "\t\t\t\t\t}\n",
       "\t\t\t\t\tproductData.finalDscPrc = finalDscPrice;\n",
       "\t\t\t\t}\n",
       "\t\t\t\t\n",
       "\t\t\t\t// sellerNckNm\n",
       "\t\t\t\tif(isContinue) {\n",
       "\t\t\t\t\tvar sellerNckNm = $(obj).find('div.product_conts div.seller_id &gt; a').html();\n",
       "\t\t\t\t\tif(sellerNckNm != null &amp;&amp; sellerNckNm != '' &amp;&amp; sellerNckNm.length &gt; 0) {\n",
       "\t\t\t\t\t\tif(sellerNckNm.indexOf(\"&lt;span\") &gt; 0) {\n",
       "\t\t\t\t\t\t\tsellerNckNm = sellerNckNm.substring(0, sellerNckNm.indexOf(\"&lt;span\"));\n",
       "\t\t\t\t\t\t}\n",
       "\t\t\t\t\t\tproductData.sellerNckNm = $.trim(sellerNckNm);\n",
       "\t\t\t\t\t}\n",
       "\t\t\t\t\t\n",
       "\t\t\t\t}\n",
       "\t\t\t\t\n",
       "\t\t\t\tif(isContinue) {\n",
       "\t\t\t\t\tproductData.encSellerNo = option.prdLogDataJson[productData.prdNo].encSelNo;\n",
       "\t\t\t\t\tproductData.areaType = option.areaType;\n",
       "\n",
       "\t\t\t\t\tif(option.areaType == '01'){\n",
       "\t\t\t\t\t\tproductData.areaNm = 'product_list';\n",
       "\t\t\t\t\t}else if(option.areaType == '02'){\n",
       "\t\t\t\t\t\tproductData.areaNm = 'click_ad_product';\n",
       "\t\t\t\t\t\tproductData.adYn = 'Y';\n",
       "\t\t\t\t\t\tproductData.adTypGubn = 'E';\n",
       "\t\t\t\t\t\tproductData.adAreaGubn = 'C23';\n",
       "\t\t\t\t\t\tproductData.adRank = option.prdLogDataJson[productData.prdNo].adRank;\n",
       "\t\t\t\t\t\tproductData.trcNo = option.prdLogDataJson[productData.prdNo].trcNo;\n",
       "\t\t\t\t\t}else if(option.areaType == '03'){\n",
       "\t\t\t\t\t\tproductData.areaNm = 'hit_ad_product';\n",
       "\t\t\t\t\t\tproductData.adYn = 'Y';\n",
       "\t\t\t\t\t\tproductData.adTypGubn = 'E';\n",
       "\t\t\t\t\t\tproductData.adAreaGubn = 'C12';\n",
       "\t\t\t\t\t\tproductData.adRank = option.prdLogDataJson[productData.prdNo].adRank;\n",
       "\t\t\t\t\t\tproductData.trcNo = option.prdLogDataJson[productData.prdNo].trcNo;\n",
       "\t\t\t\t\t\tproductData.dispSpceNo = '6570787';\n",
       "\t\t\t\t\t}\n",
       "\t\t\t\t\tsetProduct(obj, productData);\n",
       "\t\t\t\t\tsetNewWindow(obj, productData);\n",
       "\t\t\t\t\tsetLike(obj, productData);\n",
       "\t\t\t\t\tsetSeller(obj, productData);\n",
       "\t\t\t\t\tsetReview(obj, productData);\n",
       "\t\t\t\t}\n",
       "\t\t\t});\n",
       "\t\t}\n",
       "\t\t\n",
       "\t\tvar setProduct = function (obj, prd) {\n",
       "\t\t\ttry {\n",
       "\t\t\t\tvar rakeLogBody = new RakeData();\n",
       "\t\t\t\trakeLogBody.setContentNo(prd.prdNo);\n",
       "\t\t\t\trakeLogBody.setContentName(prd.prdNm);\n",
       "\t\t\t\trakeLogBody.setLastDiscountPrice(prd.finalDscPrc);\n",
       "\t\t\t\trakeLogBody.setContentType(ContentType.PRODUCT);\n",
       "\t\t\t\t//rakeLogBody.setPositionL1(prd.positionL1);\n",
       "\t\t\t\t\n",
       "\t\t\t\tif(prd.areaType == '02' || prd.areaType == '03'){\n",
       "\t\t\t\t\trakeLogBody.setAdYn(prd.adYn);\n",
       "\t\t\t\t\trakeLogBody.setAdTypGubn(prd.adTypGubn);\n",
       "\t\t\t\t\trakeLogBody.setAdAreaGubn(prd.adAreaGubn);\n",
       "\t\t\t\t\trakeLogBody.setAdRank(prd.adRank);\n",
       "\t\t\t\t\trakeLogBody.setTrcNo(prd.trcNo);\n",
       "\t\t\t\t\trakeLogBody.setDispSpceNo(prd.dispSpceNo);\n",
       "\t\t\t\t}\n",
       "\t\t\t\t\n",
       "\t\t\t\t$(obj).find('div.product_conts div.pub_photo a').attr('data-log-actionid-area', prd.areaNm);\n",
       "\t\t\t\t$(obj).find('div.product_conts div.pub_photo a').attr('data-log-actionid-label', 'product');\n",
       "\t\t\t\t$(obj).find('div.product_conts div.pub_photo a').attr('data-log-body', JSON.stringify(rakeLogBody.getData()));\n",
       "\t\t\t\t$(obj).find('div.product_conts div.pub_photo a').attr('data-log-index', prd.positionL1);\n",
       "\t\t\t\t\n",
       "\t\t\t\t$(obj).find('div.product_conts div.pup_info div.pup_title a').attr('data-log-actionid-area', prd.areaNm);\n",
       "\t\t\t\t$(obj).find('div.product_conts div.pup_info div.pup_title a').attr('data-log-actionid-label', 'product_name');\n",
       "\t\t\t\t$(obj).find('div.product_conts div.pup_info div.pup_title a').attr('data-log-body', JSON.stringify(rakeLogBody.getData()));\n",
       "\t\t\t\t$(obj).find('div.product_conts div.pup_info div.pup_title a').attr('data-log-index', prd.positionL1);\n",
       "\t\t\t} catch(e) {}\n",
       "\t\t}\n",
       "\t\t\n",
       "\t\tvar setNewWindow = function (obj, prd) {\n",
       "\t\t\ttry {\n",
       "\t\t\t\tvar rakeLogBody = new RakeData();\n",
       "\t\t\t\trakeLogBody.setContentNo(prd.prdNo);\n",
       "\t\t\t\trakeLogBody.setContentName(prd.prdNm);\n",
       "\t\t\t\trakeLogBody.setLastDiscountPrice(prd.finalDscPrc);\n",
       "\t\t\t\trakeLogBody.setContentType(ContentType.PRODUCT);\n",
       "\t\t\t\t//rakeLogBody.setPositionL1(prd.positionL1);\n",
       "\t\t\t\t\n",
       "\t\t\t\tif(prd.areaType == '02' || prd.areaType == '03'){\n",
       "\t\t\t\t\trakeLogBody.setAdYn(prd.adYn);\n",
       "\t\t\t\t\trakeLogBody.setAdTypGubn(prd.adTypGubn);\n",
       "\t\t\t\t\trakeLogBody.setAdAreaGubn(prd.adAreaGubn);\n",
       "\t\t\t\t\trakeLogBody.setAdRank(prd.adRank);\n",
       "\t\t\t\t\trakeLogBody.setTrcNo(prd.trcNo);\n",
       "\t\t\t\t\trakeLogBody.setDispSpceNo(prd.dispSpceNo);\n",
       "\t\t\t\t}\n",
       "\t\t\t\t\n",
       "\t\t\t\t$(obj).find('div.product_conts div a.pub_newopen').attr('data-log-actionid-area', prd.areaNm);\n",
       "\t\t\t\t$(obj).find('div.product_conts div a.pub_newopen').attr('data-log-actionid-label', 'new_window');\n",
       "\t\t\t\t$(obj).find('div.product_conts div a.pub_newopen').attr('data-log-body', JSON.stringify(rakeLogBody.getData()));\n",
       "\t\t\t\t$(obj).find('div.product_conts div a.pub_newopen').attr('data-log-index', prd.positionL1);\n",
       "\t\t\t} catch(e) {}\n",
       "\t\t}\n",
       "\t\t\n",
       "\t\tvar setLike = function (obj, prd) {\n",
       "\t\t\ttry {\n",
       "\t\t\t\tvar rakeLogBody = new RakeData();\n",
       "\t\t\t\trakeLogBody.setContentNo(prd.prdNo);\n",
       "\t\t\t\trakeLogBody.setContentName(prd.prdNm);\n",
       "\t\t\t\trakeLogBody.setLastDiscountPrice(prd.finalDscPrc);\n",
       "\t\t\t\trakeLogBody.setContentType(ContentType.PRODUCT);\n",
       "\t\t\t\t//rakeLogBody.setPositionL1(prd.positionL1);\n",
       "\t\t\t\t\n",
       "\t\t\t\tif(prd.areaType == '02' || prd.areaType == '03'){\n",
       "\t\t\t\t\trakeLogBody.setAdYn(prd.adYn);\n",
       "\t\t\t\t\trakeLogBody.setAdTypGubn(prd.adTypGubn);\n",
       "\t\t\t\t\trakeLogBody.setAdAreaGubn(prd.adAreaGubn);\n",
       "\t\t\t\t\trakeLogBody.setAdRank(prd.adRank);\n",
       "\t\t\t\t\trakeLogBody.setTrcNo(prd.trcNo);\n",
       "\t\t\t\t\trakeLogBody.setDispSpceNo(prd.dispSpceNo);\n",
       "\t\t\t\t}\n",
       "\t\t\t\t\n",
       "\t\t\t\t$(obj).find('div.product_conts div.like_this button').attr('data-log-actionid-area', prd.areaNm);\n",
       "\t\t\t\t$(obj).find('div.product_conts div.like_this button').attr('data-log-actionid-label', 'like');\n",
       "\t\t\t\t$(obj).find('div.product_conts div.like_this button').attr('data-log-body', JSON.stringify(rakeLogBody.getData()));\n",
       "\t\t\t\t$(obj).find('div.product_conts div.like_this button').attr('data-log-index', prd.positionL1);\n",
       "\t\t\t} catch(e) {}\n",
       "\t\t}\n",
       "\t\t\n",
       "\t\tvar setSeller = function (obj, prd) {\n",
       "\t\t\ttry {\n",
       "\t\t\t\tif(prd.sellerNckNm != null &amp;&amp; prd.sellerNckNm.length &gt; 0) {\n",
       "\t\t\t\t\tvar rakeLogBody = new RakeData();\n",
       "\t\t\t\t\trakeLogBody.setContentNo(prd.encSellerNo);\n",
       "\t\t\t\t\trakeLogBody.setContentName(prd.sellerNckNm);\n",
       "\t\t\t\t\trakeLogBody.setContentType(ContentType.SELLER);\n",
       "\t\t\t\t\trakeLogBody.setProductNo(prd.prdNo);\n",
       "\t\t\t\t\trakeLogBody.setProductName(prd.prdNm);\n",
       "\t\t\t\t\trakeLogBody.setLastDiscountPrice(prd.finalDscPrc);\n",
       "\t\t\t\t\t\n",
       "\t\t\t\t\tif(prd.areaType == '02' || prd.areaType == '03'){\n",
       "\t\t\t\t\t\trakeLogBody.setAdYn(prd.adYn);\n",
       "\t\t\t\t\t\trakeLogBody.setAdTypGubn(prd.adTypGubn);\n",
       "\t\t\t\t\t\trakeLogBody.setAdAreaGubn(prd.adAreaGubn);\n",
       "\t\t\t\t\t\trakeLogBody.setAdRank(prd.adRank);\n",
       "\t\t\t\t\t\trakeLogBody.setTrcNo(prd.trcNo);\n",
       "\t\t\t\t\t\trakeLogBody.setDispSpceNo(prd.dispSpceNo);\n",
       "\t\t\t\t\t}\n",
       "\t\t\t\t\t\n",
       "\t\t\t\t\t$(obj).find('div.product_conts div.seller_id &gt; a').attr('data-log-actionid-area', prd.areaNm);\n",
       "\t\t\t\t\t$(obj).find('div.product_conts div.seller_id &gt; a').attr('data-log-actionid-label', 'seller');\n",
       "\t\t\t\t\t$(obj).find('div.product_conts div.seller_id &gt; a').attr('data-log-body', JSON.stringify(rakeLogBody.getData()));\n",
       "\t\t\t\t\t$(obj).find('div.product_conts div.seller_id &gt; a').attr('data-log-index', prd.positionL1);\n",
       "\t\t\t\t}\n",
       "\t\t\t} catch(e) {}\n",
       "\t\t}\n",
       "\t\t\n",
       "\t\tvar setReview = function (obj, prd) {\n",
       "\t\t\ttry {\n",
       "\t\t\t\tvar rakeLogBody = new RakeData();\n",
       "\t\t\t\trakeLogBody.setContentNo(prd.prdNo);\n",
       "\t\t\t\trakeLogBody.setContentName(prd.prdNm);\n",
       "\t\t\t\trakeLogBody.setLastDiscountPrice(prd.finalDscPrc);\n",
       "\t\t\t\trakeLogBody.setContentType(ContentType.PRODUCT);\n",
       "\t\t\t\t//rakeLogBody.setPositionL1(prd.positionL1);\n",
       "\t\t\t\t\n",
       "\t\t\t\tif(prd.areaType == '02' || prd.areaType == '03'){\n",
       "\t\t\t\t\trakeLogBody.setAdYn(prd.adYn);\n",
       "\t\t\t\t\trakeLogBody.setAdTypGubn(prd.adTypGubn);\n",
       "\t\t\t\t\trakeLogBody.setAdAreaGubn(prd.adAreaGubn);\n",
       "\t\t\t\t\trakeLogBody.setAdRank(prd.adRank);\n",
       "\t\t\t\t\trakeLogBody.setTrcNo(prd.trcNo);\n",
       "\t\t\t\t\trakeLogBody.setDispSpceNo(prd.dispSpceNo);\n",
       "\t\t\t\t}\n",
       "\t\t\t\t\n",
       "\t\t\t\t$(obj).find('div.product_conts div.seller_id strong.pub_stify a').attr('data-log-actionid-area', prd.areaNm);\n",
       "\t\t\t\t$(obj).find('div.product_conts div.seller_id strong.pub_stify a').attr('data-log-actionid-label', 'review');\n",
       "\t\t\t\t$(obj).find('div.product_conts div.seller_id strong.pub_stify a').attr('data-log-body', JSON.stringify(rakeLogBody.getData()));\n",
       "\t\t\t\t$(obj).find('div.product_conts div.seller_id strong.pub_stify a').attr('data-log-index', prd.positionL1);\n",
       "\t\t\t} catch(e) {}\n",
       "\t\t}\n",
       "\t\t\n",
       "\t\tparseData(option);\n",
       "\t}\n",
       "}\n",
       "\n",
       "</script>\n",
       "<!-- headSection End-->\n",
       "<script charset=\"euc-kr\" src=\"//c.011st.com/js/rake/rakeLog.js?v=20170808\"></script></head>\n",
       "<body>\n",
       "<!-- //Head -->\n",
       "<script charset=\"UTF-8\" id=\"headerUtilTemplate\" type=\"text/x-handlebars-template\">\n",
       "\t&lt;div class=\"header_util\" id=\"headerUtilArea\" data-log-actionid-area=\"header_util\"&gt;\n",
       "\t\t&lt;div class=\"inner\"&gt;\n",
       "\t\t\t&lt;div class=\"header_utilmenu\"&gt;\n",
       "\t\t\t\t&lt;ul&gt;\n",
       "\t\t\t\t\t{{#ifCond channel '===' 'DEAL'}}\n",
       "\t\t\t\t\t&lt;li&gt;&lt;a href=\"http://www.11st.co.kr/html/main.html\" class=\"home\"&gt;11번가&lt;/a&gt;&lt;span class=\"tx_bar\"&gt;&lt;/span&gt;&lt;/li&gt;\n",
       "\t\t\t\t\t{{/ifCond}}\n",
       "\t\t\t\t\t{{#ifCond channel '===' 'SHOP'}}\n",
       "\t\t\t\t\t&lt;li&gt;&lt;a href=\"http://www.11st.co.kr/html/main.html\" class=\"home\"&gt;11번가&lt;/a&gt;&lt;span class=\"tx_bar\"&gt;&lt;/span&gt;&lt;/li&gt;\n",
       "\t\t\t\t\t{{/ifCond}}\n",
       "\t\t\t\t\t&lt;li data-log-actionid-label=\"appdown\"&gt;&lt;a href=\"http://www.11st.co.kr/contents/Contents.tmall?method=dispContents&amp;spceid=2103\" data-ga-event-category=\"PC_GNB\" data-ga-event-action=\"상단유틸\" data-ga-event-label=\"앱다운로드\" class=\"appdown\" target=\"_blank\"&gt;&lt;span class=\"ico\"&gt;&lt;/span&gt;앱다운로드&lt;/a&gt;&lt;span class=\"tx_bar\"&gt;&lt;/span&gt;&lt;/li&gt;\n",
       "\t\t\t\t\t\n",
       "\t\t\t\t\t&lt;li class=\"direct\" id=\"go11st_wrap\" style=\"display:none;\" data-log-actionid-label=\"shortcut\"&gt;\n",
       "\t\t\t\t\t\t&lt;button type=\"button\" class=\"btn_direct\" data-ga-event-category=\"PC_GNB\" data-ga-event-action=\"상단유틸\" data-ga-event-label=\"바로가기ON/OFF\"&gt;바로가기&lt;/button&gt;\n",
       "\t\t\t\t\t\t&lt;div class=\"lay_nw_def direct_go_wrap\" id=\"lay_direct\"&gt;\n",
       "\t\t\t\t\t\t\t&lt;div class=\"lay_tit\"&gt;&lt;em id=\"gbox_text\"&gt;바로가기 비접속중&lt;/em&gt;입니다.&lt;/div&gt;\n",
       "\t\t\t\t\t\t\t&lt;div class=\"lay_conts cfix\"&gt;\n",
       "\t\t\t\t\t\t\t\t&lt;div class=\"direct_go\" id=\"divDirectBenefit\"&gt;\n",
       "\t\t\t\t\t\t\t\t\t&lt;dl&gt;\n",
       "\t\t\t\t\t\t\t\t\t\t&lt;dt&gt;바로가기로 방문하는 방법 &lt;/dt&gt;\n",
       "\t\t\t\t\t\t\t\t\t\t&lt;dd&gt;\n",
       "\t\t\t\t\t\t\t\t\t\t\t&lt;ul class=\"cfix\"&gt;\n",
       "\t\t\t\t\t\t\t\t\t\t\t\t&lt;li&gt;&lt;button type=\"button\" class=\"btn_way\" onclick=\"FooterComm.installDirectVisit('');\"&gt;바로가기 설치하기&lt;/button&gt;&lt;/li&gt;\n",
       "\t\t\t\t\t\t\t\t\t\t\t\t&lt;li&gt;&lt;button type=\"button\" class=\"btn_way\" onclick=\"setHomePage();\"&gt;시작페이지 설정하기&lt;/button&gt;&lt;/li&gt;\n",
       "\t\t\t\t\t\t\t\t\t\t\t\t&lt;li&gt;&lt;button type=\"button\" class=\"btn_way\" onclick=\"FooterComm.addFavorite();\"&gt;즐겨찾기 추가하기&lt;/button&gt;&lt;/li&gt;\n",
       "\t\t\t\t\t\t\t\t\t\t\t\t&lt;li&gt;&lt;button type=\"button\" class=\"btn_way\" onclick=\"FooterComm.clip11stUrl();\"&gt;URL 직접 입력하기&lt;/button&gt;&lt;/li&gt;\n",
       "\t\t\t\t\t\t\t\t\t\t\t&lt;/ul&gt;\n",
       "\t\t\t\t\t\t\t\t\t\t&lt;/dd&gt;\n",
       "\t\t\t\t\t\t\t\t\t&lt;/dl&gt;\n",
       "\t\t\t\t\t\t\t\t\t&lt;div class=\"btn_sec\"&gt;&lt;a href=\"http://www.11st.co.kr/browsing/MallPlanDetail.tmall?method=getMallPlanDetail&amp;planDisplayNumber=905236\" class=\"btn_nw_gray\"&gt;혜택 상세보기&lt;/a&gt;&lt;/div&gt;\n",
       "\t\t\t\t\t\t\t\t&lt;/div&gt;\n",
       "\t\t\t\t\t\t\t&lt;/div&gt;\n",
       "\t\t\t\t\t\t\t&lt;button type=\"button\" class=\"btn_laycls\" onclick=\"jQuery('#lay_direct').toggle();\"&gt;&lt;span class=\"hide\"&gt;레이어 닫기&lt;/span&gt;&lt;/button&gt;\n",
       "\t\t\t\t\t\t&lt;/div&gt;\n",
       "\t\t\t\t\t&lt;/li&gt;\n",
       "\t\t\t\t&lt;/ul&gt;\n",
       "\t\t\t&lt;/div&gt;\n",
       "\t\t\t&lt;div class=\"header_user_etc\"&gt;\n",
       "\t\t\t\t&lt;ul&gt;\n",
       "\t\t\t\t\t{{#if isLogin}}\n",
       "\t\t\t\t\t&lt;li data-log-actionid-label=\"loginout\"&gt;&lt;a id=\"gnbLogin\" href=\"javascript:void(0);\" onclick=\"logout('','{{loginReturnURL}}'); rakeLog.sendRakeLog(this);\" data-ga-event-category=\"PC_GNB\" data-ga-event-action=\"상단유틸\" data-ga-event-label=\"로그아웃\" data-log-body=\"{'state':'로그인'}\"&gt;로그아웃&lt;/a&gt;&lt;span class=\"tx_bar\"&gt;&lt;/span&gt;&lt;/li&gt;\n",
       "\t\t\t\t\t&lt;li&gt;&lt;a id=\"gnbMember\" href=\"{{_GNB_CONTEXT_PATH_}}/register/memInfoEditForm.tmall?method=getMemberInfo&amp;protocol=https\" onclick=\"goMemberInfoPages();return false;\"&gt;회원정보&lt;/a&gt;&lt;span class=\"tx_bar\"&gt;&lt;/span&gt;&lt;/li&gt;\n",
       "\t\t\t\t\t{{else}}\n",
       "\t\t\t\t\t&lt;li data-log-actionid-label=\"loginout\"&gt;&lt;a id=\"gnbLogin\" href=\"javascript:void(0);\" onclick=\"login('UT0201','{{loginReturnURL}}'); rakeLog.sendRakeLog(this);\" data-ga-event-category=\"PC_GNB\" data-ga-event-action=\"상단유틸\" data-ga-event-label=\"로그인\" data-log-body=\"{'state':'로그아웃'}\"&gt;로그인&lt;/a&gt;&lt;span class=\"tx_bar\"&gt;&lt;/span&gt;&lt;/li&gt;\n",
       "\t\t\t\t\t&lt;li data-log-actionid-label=\"join\"&gt;&lt;a id=\"gnbMember\" href=\"javascript:void(0);\" onclick=\"join(''); rakeLog.sendRakeLog(this);\" data-ga-event-category=\"PC_GNB\" data-ga-event-action=\"상단유틸\" data-ga-event-label=\"회원가입\"&gt;회원가입&lt;/a&gt;&lt;span class=\"tx_bar\"&gt;&lt;/span&gt;&lt;/li&gt;\n",
       "\t\t\t\t\t{{/if}}\n",
       "\t\t\t\t\t{{#ifCond channel '===' 'TOUR'}}\n",
       "\t\t\t\t\t&lt;li id=\"utMy11st\"&gt;&lt;a href=\"http://www.11st.co.kr/vertical/TourReservationSettleList.tmall?method=displayTourReservationSettleList\" data-ga-event-category=\"PC_GNB\" data-ga-event-action=\"상단유틸\" data-ga-event-label=\"나의 여행11번가\"&gt;나의 여행11번가&lt;/a&gt;&lt;span class=\"tx_bar\"&gt;&lt;/span&gt;&lt;/li&gt;\n",
       "\t\t\t\t\t{{else}}\n",
       "\t\t\t\t\t&lt;li class=\"have_sub\" id=\"utMy11st\" data-log-actionid-label=\"my11st\"&gt;&lt;a href=\"{{_MY11ST_URL_}}\" data-ga-event-category=\"PC_GNB\" data-ga-event-action=\"상단유틸\" data-ga-event-label=\"나의11번가\"&gt;나의11번가&lt;span class=\"ico_arrow\"&gt;&lt;/span&gt;&lt;span class=\"frame\"&gt;&lt;/span&gt;&lt;/a&gt;&lt;span class=\"tx_bar\"&gt;&lt;/span&gt;\n",
       "\t\t\t\t\t\t&lt;ul class=\"user_sub_menu\"&gt;\n",
       "\t\t\t\t\t\t\t&lt;li data-log-actionid-label=\"orderdlv_inquiry\"&gt;&lt;a href=\"{{_ORDER_HIS_URL_}}\" data-ga-event-category=\"PC_GNB\" data-ga-event-action=\"상단유틸\" data-ga-event-label=\"주문배송조회\"&gt;주문배송조회&lt;/a&gt;&lt;/li&gt;\n",
       "\t\t\t\t\t\t\t&lt;li data-log-actionid-label=\"coupon\"&gt;&lt;a href=\"{{_GNB_CONTEXT_PATH_}}/loyalty/AuthCouponGiftDtls.tmall\" data-ga-event-category=\"PC_GNB\" data-ga-event-action=\"상단유틸\" data-ga-event-label=\"쿠폰\"&gt;쿠폰&lt;/a&gt;&lt;/li&gt;\n",
       "\t\t\t\t\t\t\t&lt;li data-log-actionid-label=\"grade\"&gt;&lt;a href=\"{{_GNB_CONTEXT_PATH_}}/register/getGradeInfo.tmall?method=getGrade\" data-ga-event-category=\"PC_GNB\" data-ga-event-action=\"상단유틸\" data-ga-event-label=\"구매등급 혜택\"&gt;구매등급 혜택&lt;/a&gt;&lt;/li&gt;\n",
       "\t\t\t\t\t\t\t&lt;li data-log-actionid-label=\"favorite_minimall\"&gt;&lt;a href=\"{{_GNB_CONTEXT_PATH_}}/minimall/MyMiniMallAction.tmall?method=getMyMiniMall\" data-ga-event-category=\"PC_GNB\" data-ga-event-action=\"상단유틸\" data-ga-event-label=\"찜한 스토어\"&gt;찜한 스토어&lt;/a&gt;&lt;/li&gt;\n",
       "\t\t\t\t\t\t&lt;/ul&gt;\n",
       "\t\t\t\t\t&lt;/li&gt;\n",
       "\t\t\t\t\t&lt;li data-log-actionid-label=\"cart\"&gt;&lt;a href=\"{{_SHOPPINGCART_URL_}}\" data-ga-event-category=\"PC_GNB\" data-ga-event-action=\"상단유틸\" data-ga-event-label=\"장바구니\"&gt;장바구니&lt;/a&gt;&lt;span class=\"tx_bar\"&gt;&lt;/span&gt;&lt;/li&gt;\n",
       "\t\t\t\t\t{{/ifCond}}\n",
       "\t\t\t\t\t&lt;li data-log-actionid-label=\"customer_center\"&gt;&lt;a href=\"http://help.11st.co.kr\" data-ga-event-category=\"PC_GNB\" data-ga-event-action=\"상단유틸\" data-ga-event-label=\"고객센터\"&gt;고객센터&lt;/a&gt;&lt;span class=\"tx_bar\"&gt;&lt;/span&gt;&lt;/li&gt;\n",
       "\t\t\t\t\t&lt;li class=\"have_sub\" data-log-actionid-label=\"seller_office\"&gt;&lt;a href=\"{{_SOFFICE_URL_}}\" data-ga-event-category=\"PC_GNB\" data-ga-event-action=\"상단유틸\" data-ga-event-label=\"셀러오피스\"&gt;셀러오피스&lt;span class=\"ico_arrow\"&gt;&lt;/span&gt;&lt;span class=\"frame\"&gt;&lt;/span&gt;&lt;/a&gt;&lt;span class=\"tx_bar\"&gt;&lt;/span&gt;&lt;!-- 마우스오버시 li에 클래스 on추가 --&gt;\n",
       "\t\t\t\t\t\t&lt;ul class=\"user_sub_menu\"&gt;\n",
       "\t\t\t\t\t\t\t&lt;li data-log-actionid-label=\"seller_ad\"&gt;&lt;a href=\"{{_SOFFICE_URL_}}/adcentre/AdvertMain.tmall\" data-ga-event-category=\"PC_GNB\" data-ga-event-action=\"상단유틸\" data-ga-event-label=\"판매자광고센터\"&gt;판매자광고센터&lt;/a&gt;&lt;/li&gt;\n",
       "\t\t\t\t\t\t\t&lt;li&gt;&lt;a href=\"https://adoffice.11st.co.kr\"&gt;애드 오피스&lt;/a&gt;&lt;/li&gt;\n",
       "\t\t\t\t\t\t\t&lt;li data-log-actionid-label=\"brand_ad\"&gt;&lt;a href=\"{{_GNB_CONTEXT_PATH_}}/brandadcenter/Main.tmall\" data-ga-event-category=\"PC_GNB\" data-ga-event-action=\"상단유틸\" data-ga-event-label=\"브랜드광고센터\"&gt;브랜드광고센터&lt;/a&gt;&lt;/li&gt;\n",
       "\t\t\t\t\t\t\t&lt;li data-log-actionid-label=\"sellerzone\"&gt;&lt;a href=\"{{_SELLER_URL_}}\" data-ga-event-category=\"PC_GNB\" data-ga-event-action=\"상단유틸\" data-ga-event-label=\"셀러존\"&gt;셀러존&lt;/a&gt;&lt;/li&gt;\n",
       "\t\t\t\t\t\t\t&lt;li data-log-actionid-label=\"minimall_mngt\"&gt;&lt;a href=\"{{_SELLER_SHOP_DOMAIN_}}/minimall/AuthMiniMallAction.tmall?method=goRepMinimallMng\" data-ga-event-category=\"PC_GNB\" data-ga-event-action=\"상단유틸\" data-ga-event-label=\"스토어관리\"&gt;스토어관리&lt;/a&gt;&lt;/li&gt;\n",
       "\t\t\t\t\t\t&lt;/ul&gt;\n",
       "\t\t\t\t\t&lt;/li&gt;\n",
       "\t\t\t\t\t&lt;li class=\"have_sub lang_v2\" data-log-actionid-label=\"language\"&gt;&lt;a href=\"http://www.11st.co.kr/html/main.html\" data-ga-event-category=\"PC_GNB\" data-ga-event-action=\"상단유틸\" data-ga-event-label=\"KOREA\"&gt;&lt;span class=\"flag flag_ko\"&gt;&lt;/span&gt; Korea&lt;span class=\"ico_arrow\"&gt;&lt;/span&gt;&lt;span class=\"frame\"&gt;&lt;/span&gt;&lt;/a&gt;\n",
       "\t\t\t\t\t\t&lt;ul class=\"user_sub_menu\"&gt;\n",
       "\t\t\t\t\t\t\t&lt;li&gt;&lt;a href=\"http://global.11st.co.kr/?trlang=en\" data-ga-event-category=\"PC_GNB\" data-ga-event-action=\"상단유틸\" data-ga-event-label=\"ENGLISH\" data-log-body=\"{'language':'english'}\"&gt;&lt;span class=\"flag flag_en\"&gt;&lt;/span&gt; English&lt;/a&gt;&lt;/li&gt;\n",
       "                            &lt;li&gt;&lt;a href=\"http://global.11st.co.kr/?trlang=zh\" data-ga-event-category=\"PC_GNB\" data-ga-event-action=\"상단유틸\" data-ga-event-label=\"중국\" data-log-body=\"{'language':'china'}\"&gt;&lt;span class=\"flag flag_ch\"&gt;&lt;/span&gt; China&lt;/a&gt;&lt;/li&gt;\n",
       "\t\t\t\t\t\t\t&lt;li&gt;&lt;a href=\"http://www.11street.my\" data-ga-event-category=\"PC_GNB\" data-ga-event-action=\"상단유틸\" data-ga-event-label=\"말레이시아\" data-log-body=\"{'language':'malaysia'}\"&gt;&lt;span class=\"flag flag_ma\"&gt;&lt;/span&gt; Malaysia&lt;/a&gt;&lt;/li&gt;\n",
       "\t\t\t\t\t\t\t&lt;li&gt;&lt;a href=\"http://www.elevenia.co.id/\" data-ga-event-category=\"PC_GNB\" data-ga-event-action=\"상단유틸\" data-ga-event-label=\"인도네시아\" data-log-body=\"{'language':'indonesia'}\"&gt;&lt;span class=\"flag flag_in\"&gt;&lt;/span&gt; Indonesia&lt;/a&gt;&lt;/li&gt;\n",
       "\t\t\t\t\t\t\t&lt;li&gt;&lt;a href=\"http://www.n11.com/\" data-ga-event-category=\"PC_GNB\" data-ga-event-action=\"상단유틸\" data-ga-event-label=\"터키\" data-log-body=\"{'language':'turkey'}\"&gt;&lt;span class=\"flag flag_tu\"&gt;&lt;/span&gt; Turkey&lt;/a&gt;&lt;/li&gt;\n",
       "\t\t\t\t\t\t\t&lt;li&gt;&lt;a href=\"http://www.11street.co.th/html/th/main.html\" data-ga-event-category=\"PC_GNB\" data-ga-event-action=\"상단유틸\" data-ga-event-label=\"태국\" data-log-body=\"{'language':'thailand'}\"&gt;&lt;span class=\"flag flag_th\"&gt;&lt;/span&gt; Thailand&lt;/a&gt;&lt;/li&gt;\n",
       "\t\t\t\t\t\t&lt;/ul&gt;\n",
       "\t\t\t\t\t&lt;/li&gt;\n",
       "\t\t\t\t&lt;/ul&gt;\n",
       "\t\t\t&lt;/div&gt;\t\t\n",
       "\t\t&lt;/div&gt;\n",
       "\t&lt;/div&gt;\n",
       "\t&lt;hr&gt;\n",
       "</script>\n",
       "<script id=\"headerStartTemplate\" type=\"text/x-handlebars-template\">\n",
       "\t{{#ifCond templateType '===' 'main'}}\n",
       "\t&lt;div class=\"skip_nav\"&gt;\n",
       "\t\t&lt;p&gt;&lt;a href=\"#container\"&gt;본문 바로가기&lt;/a&gt;&lt;/p&gt;\t\n",
       "\t&lt;/div&gt;\n",
       "\t&lt;div id=\"wrap\"&gt;\n",
       "\t{{else}}\n",
       "\t&lt;div id=\"skipNavi\"&gt;\n",
       "\t\t&lt;a href=\"#tSearch\"&gt;&lt;span&gt;통합검색 바로가기&lt;/span&gt;&lt;/a&gt;\n",
       "\t\t&lt;a href=\"#layBodyWrap\"&gt;&lt;span&gt;본문 바로가기&lt;/span&gt;&lt;/a&gt;\n",
       "\t&lt;/div&gt;\n",
       "\t&lt;div id=\"wrapBody\"&gt;\n",
       "\t{{/ifCond}}\n",
       "</script>\n",
       "<script id=\"headerGlobalServiceTemplate\" type=\"text/x-handlebars-template\">\n",
       "\t&lt;div class=\"global_top_cntr\" id=\"global_top_cntr\" style=\"display:none;\"&gt;\n",
       "\t\t&lt;div&gt;\n",
       "\t\t\t&lt;p&gt;Please select your preferred language. &lt;em class=\"c_gbl\"&gt;&lt;a href=\"http://global.11st.co.kr/html/en/main.html\"  onclick=\"StartPageManager.english(); return false;\"&gt;English&lt;/a&gt;&lt;/em&gt; or &lt;em class=\"c_kor\"&gt;&lt;a href=\"http://www.11st.co.kr/html/main.html\" onclick=\"StartPageManager.korean(); return false;\"&gt;Korean&lt;/a&gt;&lt;/em&gt;&lt;/p&gt;\n",
       "\t\t\t&lt;input type=\"button\" value=\"close layer\" onclick=\"StartPageManager.hide();\"&gt;\n",
       "\t\t&lt;/div&gt;\n",
       "\t\t&lt;div class=\"choice_ko_en\"&gt;For International Shipping service, click here &lt;span&gt;(&lt;a href=\"http://global.11st.co.kr/en/commons/CommonAbout.tmall?method=getInternationalSS&amp;tab=1\"&gt;English&lt;/a&gt;, &lt;a href=\"http://www.11st.co.kr/html/browsing/worldDelivery/worldDeliveryMain.html\"&gt;Korean&lt;/a&gt;)&lt;/span&gt;&lt;/div&gt;\n",
       "\t&lt;/div&gt;\n",
       "\t&lt;div class=\"global_deliv_top lang_ko\" id=\"global_deliv_top\" style=\"display:none;\"&gt;\n",
       "\t\t&lt;div class=\"inner\"&gt;\n",
       "\t\t\t&lt;h2&gt;&lt;span&gt;&lt;span&gt;전세계배송 서비스&lt;/span&gt;&lt;/span&gt;&lt;/h2&gt;\n",
       "\t\t\t&lt;ul&gt;\n",
       "\t\t\t\t&lt;li class=\"glb_serv1\"&gt;&lt;a href=\"http://www.11st.co.kr/browsing/WorldDeliverySubAction.tmall?method=getWorldDeliveryInfo&amp;viewFlag=info1\"&gt;&lt;span&gt;&lt;span&gt;전세계배송 이용 가이드&lt;/span&gt;&lt;/span&gt;&lt;/a&gt;&lt;/li&gt;\n",
       "\t\t\t\t&lt;li class=\"glb_serv2\"&gt;&lt;a href=\"http://www.11st.co.kr/browsing/WorldDeliverySubAction.tmall?method=getWorldDeliveryInfo&amp;viewFlag=info4\"&gt;&lt;span&gt;&lt;span&gt;해외배송비 안내&lt;/span&gt;&lt;/span&gt;&lt;/a&gt;&lt;/li&gt;\n",
       "\t\t\t\t&lt;li class=\"glb_serv3\"&gt;&lt;a href=\"http://www.11st.co.kr/html/browsing/worldDelivery/worldDeliveryNatiRnk1Img.html\"&gt;&lt;span&gt;&lt;span&gt;국가별 판매랭킹&lt;/span&gt;&lt;/span&gt;&lt;/a&gt;&lt;/li&gt;\n",
       "\t\t\t&lt;/ul&gt;\n",
       "\t\t\t&lt;label for=\"noView\"&gt;&lt;input type=\"checkbox\" id=\"noView\" onclick=\"StartPageManager.hideDlvInfoLayer(true);\"&gt;더 이상 보이지 않기&lt;/label&gt;\n",
       "\t\t\t&lt;button class=\"btn_close\" onclick=\"StartPageManager.hideDlvInfoLayer(false);\"&gt;&lt;span&gt;전세계배송 서비스 레이어 닫기&lt;/span&gt;&lt;/button&gt;\n",
       "\t\t&lt;/div&gt;\n",
       "\t&lt;/div&gt;\n",
       "\t&lt;hr&gt;\n",
       "</script>\n",
       "<script id=\"headerSearchTemplate\" type=\"text/x-handlebars-template\"></script></body></html>"
      ]
     },
     "execution_count": 8,
     "metadata": {},
     "output_type": "execute_result"
    }
   ],
   "source": [
    "html"
   ]
  },
  {
   "cell_type": "code",
   "execution_count": 47,
   "metadata": {},
   "outputs": [
    {
     "data": {
      "text/plain": [
       "list"
      ]
     },
     "execution_count": 47,
     "metadata": {},
     "output_type": "execute_result"
    }
   ],
   "source": [
    "# elements -> list, element -> webElement\n",
    "links = driver.find_elements_by_css_selector('.pup_title a')\n",
    "type(links)"
   ]
  },
  {
   "cell_type": "code",
   "execution_count": 48,
   "metadata": {},
   "outputs": [
    {
     "name": "stdout",
     "output_type": "stream",
     "text": [
      "100\n"
     ]
    }
   ],
   "source": [
    "seed_url = []\n",
    "for link in links:\n",
    "    link = link.get_attribute('href')\n",
    "    seed_url.append(link)\n",
    "print(len(seed_url))"
   ]
  },
  {
   "cell_type": "markdown",
   "metadata": {},
   "source": [
    "---"
   ]
  },
  {
   "cell_type": "markdown",
   "metadata": {},
   "source": [
    "## step 2\n",
    "- link 하나하나 들어가서 정보 가져오기 \n",
    "- 필요한 정보 \n",
    "    * Document_id\n",
    "    * Category\n",
    "    * Url\n",
    "    * Title\n",
    "    * Price\n",
    "    * Photo\n",
    "    * CountSell\n",
    "    * CountRiple\n",
    "    * Seller\n",
    "    * Riple"
   ]
  },
  {
   "cell_type": "code",
   "execution_count": 49,
   "metadata": {},
   "outputs": [
    {
     "data": {
      "text/plain": [
       "100"
      ]
     },
     "execution_count": 49,
     "metadata": {},
     "output_type": "execute_result"
    }
   ],
   "source": [
    "len(seed_url)"
   ]
  },
  {
   "cell_type": "code",
   "execution_count": 50,
   "metadata": {},
   "outputs": [
    {
     "data": {
      "text/plain": [
       "list"
      ]
     },
     "execution_count": 50,
     "metadata": {},
     "output_type": "execute_result"
    }
   ],
   "source": [
    "type(seed_url)"
   ]
  },
  {
   "cell_type": "code",
   "execution_count": 52,
   "metadata": {},
   "outputs": [
    {
     "data": {
      "text/plain": [
       "['http://www.11st.co.kr/product/SellerProductDetail.tmall?method=getSellerProductDetail&prdNo=1234985926&trTypeCd=22&trCtgrNo=895019',\n",
       " 'http://www.11st.co.kr/product/SellerProductDetail.tmall?method=getSellerProductDetail&prdNo=1046705025&trTypeCd=22&trCtgrNo=895019',\n",
       " 'http://www.11st.co.kr/product/SellerProductDetail.tmall?method=getSellerProductDetail&prdNo=1688098477&trTypeCd=22&trCtgrNo=895019',\n",
       " 'http://www.11st.co.kr/product/SellerProductDetail.tmall?method=getSellerProductDetail&prdNo=617652955&trTypeCd=22&trCtgrNo=895019',\n",
       " 'http://www.11st.co.kr/product/SellerProductDetail.tmall?method=getSellerProductDetail&prdNo=617652356&trTypeCd=22&trCtgrNo=895019']"
      ]
     },
     "execution_count": 52,
     "metadata": {},
     "output_type": "execute_result"
    }
   ],
   "source": [
    "seed_url[:5]"
   ]
  },
  {
   "cell_type": "code",
   "execution_count": 58,
   "metadata": {},
   "outputs": [
    {
     "data": {
      "text/plain": [
       "'http://www.11st.co.kr/product/SellerProductDetail.tmall?method=getSellerProductDetail&prdNo=1234985926&trTypeCd=22&trCtgrNo=895019'"
      ]
     },
     "execution_count": 58,
     "metadata": {},
     "output_type": "execute_result"
    }
   ],
   "source": [
    "seed_url[0]"
   ]
  },
  {
   "cell_type": "markdown",
   "metadata": {},
   "source": [
    "### 해결할 것 ) 정규식 "
   ]
  },
  {
   "cell_type": "code",
   "execution_count": 53,
   "metadata": {},
   "outputs": [],
   "source": [
    "import re"
   ]
  },
  {
   "cell_type": "code",
   "execution_count": 85,
   "metadata": {},
   "outputs": [
    {
     "data": {
      "text/plain": [
       "'p11orprodrrodod=rrodprdNo=1234985926rpd=22rrNo=895019'"
      ]
     },
     "execution_count": 85,
     "metadata": {},
     "output_type": "execute_result"
    }
   ],
   "source": [
    "re.sub(r'[^prdNo=\\d{10}]','',seed_url[0])"
   ]
  },
  {
   "cell_type": "markdown",
   "metadata": {},
   "source": [
    "---"
   ]
  },
  {
   "cell_type": "code",
   "execution_count": 86,
   "metadata": {},
   "outputs": [],
   "source": [
    "page = driver.get(seed_url[0])"
   ]
  },
  {
   "cell_type": "code",
   "execution_count": 87,
   "metadata": {},
   "outputs": [],
   "source": [
    "content = bs(driver.page_source, 'lxml')"
   ]
  },
  {
   "cell_type": "code",
   "execution_count": 89,
   "metadata": {},
   "outputs": [
    {
     "data": {
      "text/plain": [
       "<!DOCTYPE html>\n",
       "<html lang=\"ko\" xmlns=\"http://www.w3.org/1999/xhtml\"><head><script async=\"\" src=\"http://www.google-analytics.com/plugins/ua/ec.js\" type=\"text/javascript\"></script><script async=\"\" src=\"http://www.google-analytics.com/analytics.js\" type=\"text/javascript\"></script><script async=\"\" src=\"https://rake.skplanet.com:443/log/static/js/rake/current/rake.bundle.js\" type=\"text/javascript\"></script><script async=\"\" src=\"//www.googletagmanager.com/gtm.js?id=GTM-P3PMQD&amp;l=GA_dataLayer\"></script><script async=\"\" src=\"//www.google-analytics.com/analytics.js\"></script>\n",
       "<meta content=\"text/html; charset=utf-8\" http-equiv=\"Content-Type\"/>\n",
       "<meta content=\"IE=edge, chrome=1\" http-equiv=\"X-UA-Compatible\"/>\n",
       "<title>[내아이애]아기부터 어른까지 유기농 과자 특가(10+2) - 11번가</title>\n",
       "<meta content=\"대표 안심 쌀과자/떡뻥 특가 할인 이벤트!!, 카테고리 : 유아동 과자, 가격 : 1500원\" name=\"description\"/>\n",
       "<meta content=\"Upgrade Your Life - 11번가\" name=\"keywords\"/>\n",
       "<meta content=\"text/html; charset=utf-8\" http-equiv=\"Content-Type\"/>\n",
       "<meta content=\"IE=edge\" http-equiv=\"X-UA-Compatible\"/>\n",
       "<script async=\"\" src=\"//www.google-analytics.com/analytics.js\"></script><script src=\"//www.11st.co.kr/html/experiment/experimentMetaInfo.js\" type=\"text/javascript\"></script>\n",
       "<script src=\"//www.11st.co.kr/js/plab/plab-weblib.min.js?201805241100\" type=\"text/javascript\"></script>\n",
       "<script>\n",
       "\n",
       "    var plabPageKey = '/prd_detail';\n",
       "    try{\n",
       "\n",
       "        var params = {\n",
       "            projectKey : \"11st_web\",\n",
       "            domain : \"11st.co.kr\"\n",
       "        };\n",
       "        plab.initBy(params, experimentMetaInfo);\n",
       "\n",
       "    }catch (e) { console.log(e) };\n",
       "\n",
       "</script>\n",
       "<meta content=\"1500\" property=\"product:price:amount\"/>\n",
       "<meta content=\"KRW\" property=\"product:price:currency\"/>\n",
       "<link href=\"android-app://com.elevenst/elevenst/loadurl?domain=m.11st.co.kr&amp;url=http%3A%2F%2Fm.11st.co.kr%2FMW%2FProduct%2FproductBasicInfo.tmall%3FprdNo%3D1234985926\" rel=\"alternate\"/>\n",
       "<link href=\"http://m.11st.co.kr/MW/Product/productBasicInfo.tmall?prdNo=1234985926\" media=\"only screen and (max-width: 640px)\" rel=\"alternate\"/>\n",
       "<link href=\" http://www.11st.co.kr/product/SellerProductDetail.tmall?method=getSellerProductDetail&amp;prdNo=1234985926\" rel=\"canonical\"/>\n",
       "<script type=\"text/javascript\">\n",
       "\n",
       "\t// Global Var\n",
       "\tvar _IMG_PATH_  = \"http://www.11st.co.kr\";\n",
       "\tvar _UPLOAD_IMG_PATH_  = \"http://image.11st.co.kr\";\n",
       "\tvar _SSL_UPLOAD_IMG_PATH_ = \"https://www.11st.co.kr/is\";\n",
       "\tvar _ACTION_CONTEXT_  = \"\";\n",
       "\tvar _FILE_UPLOAD_PATH_ = \"http://image.11st.co.kr\";\n",
       "\tvar _GNB_CONTEXT_PATH_ = \"http://www.11st.co.kr\";\n",
       "\tvar _ACTION_CONTEXT_URL_ = \"http://www.11st.co.kr\";\n",
       "\tvar _SSL_ACTION_CONTEXT_URL_ = \"https://www.11st.co.kr\";\n",
       "\tvar _SSL_IMG_PATH_ = \"https://www.11st.co.kr\";\n",
       "\tvar _GLOBAL_CONTEXT_PATH_ = \"http://globalshopping.11st.co.kr\";\n",
       "\tvar _BEAUTY_CONTEXT_PATH_ = \"http://beauty.11st.co.kr\";\n",
       "\tvar _SOHO_CONTEXT_PATH_ = \"http://soho.11st.co.kr\";\n",
       "\tvar _JS_PATH_ = \"http://www.11st.co.kr\";\n",
       "\n",
       "\tvar _GNB_LOGIN_URL_ = \"https://login.11st.co.kr/login/Login.tmall\";\n",
       "\tvar _GNB_LOGOUT_URL_ = \"https://login.11st.co.kr/login/Logout.tmall\";\n",
       "\tvar _PRODUCT_DETAIL_URL_ = \"http://www.11st.co.kr/product/SellerProductDetail.tmall?method=getSellerProductDetail&amp;prdNo=\";\n",
       "\n",
       "\tvar _ENJOY_SEARCH_VAR_ = \"NONE\";\n",
       "\tvar _ENJOY_SEARCH_KEY_YN_ = \"N\";\n",
       "\n",
       "\tvar _SELLER_SHOP_DOMAIN_ = \"http://shop.11st.co.kr\";\n",
       "\n",
       "\t// 변경 권고\n",
       "\tvar _CSS_URL_\t\t\t= \"http://c.011st.com\";\n",
       "\tvar _SSL_CSS_URL_\t\t= \"https://www.11st.co.kr\";\n",
       "\tvar _IMG_URL_\t\t\t= \"http://s.011st.com\";\n",
       "\tvar _SSL_IMG_URL_\t\t= \"https://www.11st.co.kr\";\n",
       "\tvar _UPLOAD_URL_\t\t= \"http://i.011st.com\";\n",
       "\tvar _SSL_UPLOAD_URL_\t= \"https://www.11st.co.kr/is\";\n",
       "\n",
       "\tvar _LOGIN_TARGET_URL_ \t= \"https://login.11st.co.kr\";\n",
       "\n",
       "\t// TZONE Var\n",
       "\tvar _TZONE_URL_\t\t\t= \"http://skt.11st.co.kr\";\n",
       "\tvar _TZONE_URL_HOME_\t= \"http://skt.11st.co.kr/html/tzone/tZoneMain.html\";\n",
       "\tvar _SELLER_URL_\t\t= \"http://seller.11st.co.kr\";\n",
       "\tvar _SOFFICE_URL_\t\t= \"http://soffice.11st.co.kr\";\n",
       "\tvar _DS_URL_\t\t\t= \"http://ds.11st.co.kr\";\n",
       "\tvar _MY11ST_URL_\t\t= \"http://buy.11st.co.kr/order/myTmall.tmall?method=getMyTmallMain\";\n",
       "\tvar _SHOPPINGCART_URL_ \t= \"http://buy.11st.co.kr/cart/CartAction.tmall?method=getCartList\";\n",
       "\tvar _MYSELL_URL_ \t\t= \"http://soffice.11st.co.kr\";\n",
       "\tvar _CATEGORY_ACTION_URL_ = \"http://www.11st.co.kr/browsing/Category.tmall\";\n",
       "\tvar _NEW_CATEGORY_ACTION_URL_ = \"http://www.11st.co.kr/browsing/DisplayCategory.tmall\";\n",
       "\tvar _SEARCH_ACTION_URL_ = \"http://search.11st.co.kr/SearchPrdAction.tmall\";\n",
       "\n",
       "\t// TOWN 11st\n",
       "\tvar _TOWN11ST_URL_ \t\t= \"http://town.11st.co.kr\";\n",
       "\tvar _TOWN_PRODUCT_DETAIL_URL_ = \"http://town.11st.co.kr/town/TownProductDetail.tmall?method=getTownProductDetail&amp;prdNo=\";\n",
       "\tvar _TOWN_SHOP_URL_ \t= \"http://town.11st.co.kr/town/TownShopDetail.tmall?method=getTownShopDetail&amp;shopNo=\";\n",
       "\tvar _TOWN_DOMAIN_ \t\t= \"http://town.11st.co.kr\";\n",
       "\tvar _TOWN_SOFFICE_URL_ \t= \"http://town.soffice.11st.co.kr\";\n",
       "\n",
       "\n",
       "\t// Order 11st\n",
       "\tvar _ORDER_IMG_PATH_ \t= \"http://buy.11st.co.kr\";\n",
       "\tvar _ORDER_URL_ \t \t= \"http://buy.11st.co.kr\";\n",
       "\tvar _ORDER_DOMAIN_ \t \t= \"http://buy.11st.co.kr\";\n",
       "\tvar _SSL_ORDER_URL_  \t= \"https://buy.11st.co.kr\";\n",
       "\tvar _SSL_ORDER_IMG_PATH_ = \"https://www.11st.co.kr\";\n",
       "\tvar _ORDER_HIS_URL_\t\t= \"http://buy.11st.co.kr/order/OrderList.tmall\";\n",
       "\n",
       "\t// ShockingDeal 11st (쇼킹딜)\n",
       "\tvar _SHOCKING_DEAL_URL_ = \"http://deal.11st.co.kr\";\n",
       "\t\n",
       "\tvar _SRCH_PARAM_DELIMITER_ = \"@;\";\n",
       "\t\n",
       "\t// 제외 제휴사\n",
       "\tvar _EXCEPT_XSITE_LIST_ = \"|1000014299|1000107070|1000138417|1000111850|1000336402|1000436475|1000601391|1000951353|1001023201|1001023200|1001023199|1001023198|1001023197|1001023196|1001021054|\";\t\t\n",
       "\n",
       "</script>\n",
       "<link href=\"http://c.011st.com/css/common/default.css\" rel=\"stylesheet\" type=\"text/css\"/>\n",
       "<link href=\"http://c.011st.com/css/shocking_deal/shocking.css\" rel=\"stylesheet\" type=\"text/css\"/>\n",
       "<link href=\"http://c.011st.com/css/common/listing_v3.css\" rel=\"stylesheet\" type=\"text/css\"/>\n",
       "<link href=\"http://c.011st.com/css/product/product_v4.css\" rel=\"stylesheet\" type=\"text/css\"/>\n",
       "<meta content=\"1850\" property=\"price\"/>\n",
       "<meta content=\"http://i.011st.com/t/300_0/dl/18/9/8/5/9/2/6/fiTxT/1234985926_125731968.jpg\" property=\"og:image\"/>\n",
       "<link href=\"http://i.011st.com/t/300_0/dl/18/9/8/5/9/2/6/fiTxT/1234985926_125731968.jpg\" rel=\"image_src\"/>\n",
       "<!-- Template Common Start -->\n",
       "<!-- Template Common End -->\n",
       "<!--[if lte IE 9]>\n",
       "<script src=\"http://www.11st.co.kr/js/lib/html5.js\"></script>\n",
       "<![endif]-->\n",
       "<!--[if lte IE 7]>\n",
       "<script src=\"/js/lib/json2.js\"></script>\n",
       "<![endif]-->\n",
       "<!-- 2016-09-12 placeholder ie9 이하 호환 js 추가-->\n",
       "<!--[if lte IE 9]>\n",
       "<script src=\"/js/lib/placeholders.js\"></script>\n",
       "<![endif]-->\n",
       "<script src=\"//media.ascend.ai/c/263109709-1/ascend.js\"></script>\n",
       "<script charset=\"euc-kr\" src=\"//www.11st.co.kr/js/rake/rakeLog.js?v=20170808\"></script><script async=\"\" charset=\"euc-kr\" data-requirecontext=\"_\" data-requiremodule=\"product.common\" src=\"/js/service/product/product.common.js\" type=\"text/javascript\"></script><script async=\"\" charset=\"euc-kr\" data-requirecontext=\"_\" data-requiremodule=\"/js/require/config.js\" src=\"/js/require/config.js\" type=\"text/javascript\"></script><script async=\"\" charset=\"euc-kr\" data-requirecontext=\"_\" data-requiremodule=\"jquery\" src=\"/js/lib/jquery/jquery-1.12.4.min.js?v=1\" type=\"text/javascript\"></script><script async=\"\" charset=\"euc-kr\" data-requirecontext=\"_\" data-requiremodule=\"handlebars\" src=\"/js/lib/handlebars/handlebars-v4.0.5.js?v=1\" type=\"text/javascript\"></script><script async=\"\" charset=\"euc-kr\" data-requirecontext=\"_\" data-requiremodule=\"myCupnInfo\" src=\"/js/service/product/module/myCupnInfo.js?v=1\" type=\"text/javascript\"></script><script async=\"\" charset=\"euc-kr\" data-requirecontext=\"_\" data-requiremodule=\"orderInfo\" src=\"/js/service/product/module/orderInfo.js?v=1\" type=\"text/javascript\"></script><script async=\"\" charset=\"euc-kr\" data-requirecontext=\"_\" data-requiremodule=\"productLayout\" src=\"/js/service/product/product.layout.js?v=1\" type=\"text/javascript\"></script><script async=\"\" charset=\"euc-kr\" data-requirecontext=\"_\" data-requiremodule=\"setItem\" src=\"/js/service/product/product.setItem.js?v=1\" type=\"text/javascript\"></script><script async=\"\" charset=\"euc-kr\" data-requirecontext=\"_\" data-requiremodule=\"customOption\" src=\"/js/service/product/custom.option.js?v=1\" type=\"text/javascript\"></script><script async=\"\" charset=\"euc-kr\" data-requirecontext=\"_\" data-requiremodule=\"customAddPrd\" src=\"/js/service/product/custom.addPrd.js?v=1\" type=\"text/javascript\"></script><script async=\"\" charset=\"euc-kr\" data-requirecontext=\"_\" data-requiremodule=\"customMdRecmPrd\" src=\"/js/service/product/custom.mdRecmPrd.js?v=1\" type=\"text/javascript\"></script><script async=\"\" charset=\"euc-kr\" data-requirecontext=\"_\" data-requiremodule=\"customOptionBot\" src=\"/js/service/product/custom.optionBot.js?v=1\" type=\"text/javascript\"></script><script async=\"\" charset=\"euc-kr\" data-requirecontext=\"_\" data-requiremodule=\"customAddPrdBot\" src=\"/js/service/product/custom.addPrdBot.js?v=1\" type=\"text/javascript\"></script><script async=\"\" charset=\"euc-kr\" data-requirecontext=\"_\" data-requiremodule=\"stdPrdOption\" src=\"/js/service/product/custom.prdOption.js?v=1\" type=\"text/javascript\"></script><script async=\"\" charset=\"euc-kr\" data-requirecontext=\"_\" data-requiremodule=\"stdPrdOptionBot\" src=\"/js/service/product/custom.prdOptionBot.js?v=1\" type=\"text/javascript\"></script><script async=\"\" charset=\"euc-kr\" data-requirecontext=\"_\" data-requiremodule=\"template\" src=\"/js/service/common/modules/ui.template.js?v=1\" type=\"text/javascript\"></script><script async=\"\" charset=\"euc-kr\" data-requirecontext=\"_\" data-requiremodule=\"slider\" src=\"/js/service/common/modules/slider.js?v=1\" type=\"text/javascript\"></script><script async=\"\" charset=\"euc-kr\" data-requirecontext=\"_\" data-requiremodule=\"prdcBigimg\" src=\"/js/service/product/product.prdcBigimg.js?v=1\" type=\"text/javascript\"></script><script async=\"\" charset=\"euc-kr\" data-requirecontext=\"_\" data-requiremodule=\"tooltip\" src=\"/js/service/common/modules/ui.tooltip.js?v=1\" type=\"text/javascript\"></script><script async=\"\" charset=\"euc-kr\" data-requirecontext=\"_\" data-requiremodule=\"productCommon\" src=\"/js/service/product/module/productCommon.js?v=1\" type=\"text/javascript\"></script><script async=\"\" charset=\"euc-kr\" data-requirecontext=\"_\" data-requiremodule=\"productLike\" src=\"/js/service/product/module/productLike.js?v=1\" type=\"text/javascript\"></script><script async=\"\" charset=\"euc-kr\" data-requirecontext=\"_\" data-requiremodule=\"snsPost\" src=\"/js/service/product/module/snsPost.js?v=1\" type=\"text/javascript\"></script><script async=\"\" charset=\"euc-kr\" data-requirecontext=\"_\" data-requiremodule=\"productDelivery\" src=\"/js/service/product/module/productDelivery.js?v=1\" type=\"text/javascript\"></script><script async=\"\" charset=\"euc-kr\" data-requirecontext=\"_\" data-requiremodule=\"prdDtlHtmlGenInfo\" src=\"/js/service/product/module/prdDtlHtmlGenInfo.js?v=1\" type=\"text/javascript\"></script><script async=\"\" charset=\"euc-kr\" data-requirecontext=\"_\" data-requiremodule=\"productSellerinfo\" src=\"/js/service/product/module/productSellerinfo.js?v=1\" type=\"text/javascript\"></script><script async=\"\" charset=\"euc-kr\" data-requirecontext=\"_\" data-requiremodule=\"productRecmModule\" src=\"/js/service/product/module/productRecmModule.js?v=1\" type=\"text/javascript\"></script><script async=\"\" charset=\"euc-kr\" data-requirecontext=\"_\" data-requiremodule=\"productInfo\" src=\"/js/service/product/module/productInfo.js?v=1\" type=\"text/javascript\"></script><script async=\"\" charset=\"euc-kr\" data-requirecontext=\"_\" data-requiremodule=\"productReturn\" src=\"/js/service/product/module/productReturn.js?v=1\" type=\"text/javascript\"></script><script async=\"\" charset=\"euc-kr\" data-requirecontext=\"_\" data-requiremodule=\"googleAnalytics\" src=\"/js/service/product/module/googleAnalytics.js?v=1\" type=\"text/javascript\"></script><script async=\"\" charset=\"euc-kr\" data-requirecontext=\"_\" data-requiremodule=\"productRake\" src=\"/js/service/product/module/productRake.js?v=1\" type=\"text/javascript\"></script><script async=\"\" charset=\"euc-kr\" data-requirecontext=\"_\" data-requiremodule=\"kakao\" src=\"/js/lib/kakao/kakao-1.1.4.min.js?v=1\" type=\"text/javascript\"></script><script async=\"\" charset=\"euc-kr\" data-requirecontext=\"_\" data-requiremodule=\"addDiscountPrice\" src=\"/js/service/product/module/addDiscountPrice.js?v=1\" type=\"text/javascript\"></script><script async=\"\" charset=\"euc-kr\" data-requirecontext=\"_\" data-requiremodule=\"productPrice\" src=\"/js/service/product/module/productPrice.js?v=1\" type=\"text/javascript\"></script><script async=\"\" charset=\"euc-kr\" data-requirecontext=\"_\" data-requiremodule=\"myPriceInfo\" src=\"/js/service/product/module/myPriceInfo.js?v=1\" type=\"text/javascript\"></script><script async=\"\" charset=\"euc-kr\" data-requirecontext=\"_\" data-requiremodule=\"productBenefit\" src=\"/js/service/product/module/productBenefit.js?v=1\" type=\"text/javascript\"></script></head>\n",
       "<body>\n",
       "<!-- header -->\n",
       "<script charset=\"UTF-8\" id=\"headerUtilTemplate\" type=\"text/x-handlebars-template\">\n",
       "\t&lt;div class=\"header_util\" id=\"headerUtilArea\" data-log-actionid-area=\"header_util\"&gt;\n",
       "\t\t&lt;div class=\"inner\"&gt;\n",
       "\t\t\t&lt;div class=\"header_utilmenu\"&gt;\n",
       "\t\t\t\t&lt;ul&gt;\n",
       "\t\t\t\t\t{{#ifCond channel '===' 'DEAL'}}\n",
       "\t\t\t\t\t&lt;li&gt;&lt;a href=\"http://www.11st.co.kr/html/main.html\" class=\"home\"&gt;11번가&lt;/a&gt;&lt;span class=\"tx_bar\"&gt;&lt;/span&gt;&lt;/li&gt;\n",
       "\t\t\t\t\t{{/ifCond}}\n",
       "\t\t\t\t\t{{#ifCond channel '===' 'SHOP'}}\n",
       "\t\t\t\t\t&lt;li&gt;&lt;a href=\"http://www.11st.co.kr/html/main.html\" class=\"home\"&gt;11번가&lt;/a&gt;&lt;span class=\"tx_bar\"&gt;&lt;/span&gt;&lt;/li&gt;\n",
       "\t\t\t\t\t{{/ifCond}}\n",
       "\t\t\t\t\t&lt;li data-log-actionid-label=\"appdown\"&gt;&lt;a href=\"http://www.11st.co.kr/contents/Contents.tmall?method=dispContents&amp;spceid=2103\" data-ga-event-category=\"PC_GNB\" data-ga-event-action=\"상단유틸\" data-ga-event-label=\"앱다운로드\" class=\"appdown\" target=\"_blank\"&gt;&lt;span class=\"ico\"&gt;&lt;/span&gt;앱다운로드&lt;/a&gt;&lt;span class=\"tx_bar\"&gt;&lt;/span&gt;&lt;/li&gt;\n",
       "\t\t\t\t\t\n",
       "\t\t\t\t\t&lt;li class=\"direct\" id=\"go11st_wrap\" style=\"display:none;\" data-log-actionid-label=\"shortcut\"&gt;\n",
       "\t\t\t\t\t\t&lt;button type=\"button\" class=\"btn_direct\" data-ga-event-category=\"PC_GNB\" data-ga-event-action=\"상단유틸\" data-ga-event-label=\"바로가기ON/OFF\"&gt;바로가기&lt;/button&gt;\n",
       "\t\t\t\t\t\t&lt;div class=\"lay_nw_def direct_go_wrap\" id=\"lay_direct\"&gt;\n",
       "\t\t\t\t\t\t\t&lt;div class=\"lay_tit\"&gt;&lt;em id=\"gbox_text\"&gt;바로가기 비접속중&lt;/em&gt;입니다.&lt;/div&gt;\n",
       "\t\t\t\t\t\t\t&lt;div class=\"lay_conts cfix\"&gt;\n",
       "\t\t\t\t\t\t\t\t&lt;div class=\"direct_go\" id=\"divDirectBenefit\"&gt;\n",
       "\t\t\t\t\t\t\t\t\t&lt;dl&gt;\n",
       "\t\t\t\t\t\t\t\t\t\t&lt;dt&gt;바로가기로 방문하는 방법 &lt;/dt&gt;\n",
       "\t\t\t\t\t\t\t\t\t\t&lt;dd&gt;\n",
       "\t\t\t\t\t\t\t\t\t\t\t&lt;ul class=\"cfix\"&gt;\n",
       "\t\t\t\t\t\t\t\t\t\t\t\t&lt;li&gt;&lt;button type=\"button\" class=\"btn_way\" onclick=\"FooterComm.installDirectVisit('');\"&gt;바로가기 설치하기&lt;/button&gt;&lt;/li&gt;\n",
       "\t\t\t\t\t\t\t\t\t\t\t\t&lt;li&gt;&lt;button type=\"button\" class=\"btn_way\" onclick=\"setHomePage();\"&gt;시작페이지 설정하기&lt;/button&gt;&lt;/li&gt;\n",
       "\t\t\t\t\t\t\t\t\t\t\t\t&lt;li&gt;&lt;button type=\"button\" class=\"btn_way\" onclick=\"FooterComm.addFavorite();\"&gt;즐겨찾기 추가하기&lt;/button&gt;&lt;/li&gt;\n",
       "\t\t\t\t\t\t\t\t\t\t\t\t&lt;li&gt;&lt;button type=\"button\" class=\"btn_way\" onclick=\"FooterComm.clip11stUrl();\"&gt;URL 직접 입력하기&lt;/button&gt;&lt;/li&gt;\n",
       "\t\t\t\t\t\t\t\t\t\t\t&lt;/ul&gt;\n",
       "\t\t\t\t\t\t\t\t\t\t&lt;/dd&gt;\n",
       "\t\t\t\t\t\t\t\t\t&lt;/dl&gt;\n",
       "\t\t\t\t\t\t\t\t\t&lt;div class=\"btn_sec\"&gt;&lt;a href=\"http://www.11st.co.kr/browsing/MallPlanDetail.tmall?method=getMallPlanDetail&amp;planDisplayNumber=905236\" class=\"btn_nw_gray\"&gt;혜택 상세보기&lt;/a&gt;&lt;/div&gt;\n",
       "\t\t\t\t\t\t\t\t&lt;/div&gt;\n",
       "\t\t\t\t\t\t\t&lt;/div&gt;\n",
       "\t\t\t\t\t\t\t&lt;button type=\"button\" class=\"btn_laycls\" onclick=\"jQuery('#lay_direct').toggle();\"&gt;&lt;span class=\"hide\"&gt;레이어 닫기&lt;/span&gt;&lt;/button&gt;\n",
       "\t\t\t\t\t\t&lt;/div&gt;\n",
       "\t\t\t\t\t&lt;/li&gt;\n",
       "\t\t\t\t&lt;/ul&gt;\n",
       "\t\t\t&lt;/div&gt;\n",
       "\t\t\t&lt;div class=\"header_user_etc\"&gt;\n",
       "\t\t\t\t&lt;ul&gt;\n",
       "\t\t\t\t\t{{#if isLogin}}\n",
       "\t\t\t\t\t&lt;li data-log-actionid-label=\"loginout\"&gt;&lt;a id=\"gnbLogin\" href=\"javascript:void(0);\" onclick=\"logout('','{{loginReturnURL}}'); rakeLog.sendRakeLog(this);\" data-ga-event-category=\"PC_GNB\" data-ga-event-action=\"상단유틸\" data-ga-event-label=\"로그아웃\" data-log-body=\"{'state':'로그인'}\"&gt;로그아웃&lt;/a&gt;&lt;span class=\"tx_bar\"&gt;&lt;/span&gt;&lt;/li&gt;\n",
       "\t\t\t\t\t&lt;li&gt;&lt;a id=\"gnbMember\" href=\"{{_GNB_CONTEXT_PATH_}}/register/memInfoEditForm.tmall?method=getMemberInfo&amp;protocol=https\" onclick=\"goMemberInfoPages();return false;\"&gt;회원정보&lt;/a&gt;&lt;span class=\"tx_bar\"&gt;&lt;/span&gt;&lt;/li&gt;\n",
       "\t\t\t\t\t{{else}}\n",
       "\t\t\t\t\t&lt;li data-log-actionid-label=\"loginout\"&gt;&lt;a id=\"gnbLogin\" href=\"javascript:void(0);\" onclick=\"login('UT0201','{{loginReturnURL}}'); rakeLog.sendRakeLog(this);\" data-ga-event-category=\"PC_GNB\" data-ga-event-action=\"상단유틸\" data-ga-event-label=\"로그인\" data-log-body=\"{'state':'로그아웃'}\"&gt;로그인&lt;/a&gt;&lt;span class=\"tx_bar\"&gt;&lt;/span&gt;&lt;/li&gt;\n",
       "\t\t\t\t\t&lt;li data-log-actionid-label=\"join\"&gt;&lt;a id=\"gnbMember\" href=\"javascript:void(0);\" onclick=\"join(''); rakeLog.sendRakeLog(this);\" data-ga-event-category=\"PC_GNB\" data-ga-event-action=\"상단유틸\" data-ga-event-label=\"회원가입\"&gt;회원가입&lt;/a&gt;&lt;span class=\"tx_bar\"&gt;&lt;/span&gt;&lt;/li&gt;\n",
       "\t\t\t\t\t{{/if}}\n",
       "\t\t\t\t\t{{#ifCond channel '===' 'TOUR'}}\n",
       "\t\t\t\t\t&lt;li id=\"utMy11st\"&gt;&lt;a href=\"http://www.11st.co.kr/vertical/TourReservationSettleList.tmall?method=displayTourReservationSettleList\" data-ga-event-category=\"PC_GNB\" data-ga-event-action=\"상단유틸\" data-ga-event-label=\"나의 여행11번가\"&gt;나의 여행11번가&lt;/a&gt;&lt;span class=\"tx_bar\"&gt;&lt;/span&gt;&lt;/li&gt;\n",
       "\t\t\t\t\t{{else}}\n",
       "\t\t\t\t\t&lt;li class=\"have_sub\" id=\"utMy11st\" data-log-actionid-label=\"my11st\"&gt;&lt;a href=\"{{_MY11ST_URL_}}\" data-ga-event-category=\"PC_GNB\" data-ga-event-action=\"상단유틸\" data-ga-event-label=\"나의11번가\"&gt;나의11번가&lt;span class=\"ico_arrow\"&gt;&lt;/span&gt;&lt;span class=\"frame\"&gt;&lt;/span&gt;&lt;/a&gt;&lt;span class=\"tx_bar\"&gt;&lt;/span&gt;\n",
       "\t\t\t\t\t\t&lt;ul class=\"user_sub_menu\"&gt;\n",
       "\t\t\t\t\t\t\t&lt;li data-log-actionid-label=\"orderdlv_inquiry\"&gt;&lt;a href=\"{{_ORDER_HIS_URL_}}\" data-ga-event-category=\"PC_GNB\" data-ga-event-action=\"상단유틸\" data-ga-event-label=\"주문배송조회\"&gt;주문배송조회&lt;/a&gt;&lt;/li&gt;\n",
       "\t\t\t\t\t\t\t&lt;li data-log-actionid-label=\"coupon\"&gt;&lt;a href=\"{{_GNB_CONTEXT_PATH_}}/loyalty/AuthCouponGiftDtls.tmall\" data-ga-event-category=\"PC_GNB\" data-ga-event-action=\"상단유틸\" data-ga-event-label=\"쿠폰\"&gt;쿠폰&lt;/a&gt;&lt;/li&gt;\n",
       "\t\t\t\t\t\t\t&lt;li data-log-actionid-label=\"grade\"&gt;&lt;a href=\"{{_GNB_CONTEXT_PATH_}}/register/getGradeInfo.tmall?method=getGrade\" data-ga-event-category=\"PC_GNB\" data-ga-event-action=\"상단유틸\" data-ga-event-label=\"구매등급 혜택\"&gt;구매등급 혜택&lt;/a&gt;&lt;/li&gt;\n",
       "\t\t\t\t\t\t\t&lt;li data-log-actionid-label=\"favorite_minimall\"&gt;&lt;a href=\"{{_GNB_CONTEXT_PATH_}}/minimall/MyMiniMallAction.tmall?method=getMyMiniMall\" data-ga-event-category=\"PC_GNB\" data-ga-event-action=\"상단유틸\" data-ga-event-label=\"단골스토어\"&gt;단골스토어&lt;/a&gt;&lt;/li&gt;\n",
       "\t\t\t\t\t\t&lt;/ul&gt;\n",
       "\t\t\t\t\t&lt;/li&gt;\n",
       "\t\t\t\t\t&lt;li data-log-actionid-label=\"cart\"&gt;&lt;a href=\"{{_SHOPPINGCART_URL_}}\" data-ga-event-category=\"PC_GNB\" data-ga-event-action=\"상단유틸\" data-ga-event-label=\"장바구니\"&gt;장바구니&lt;/a&gt;&lt;span class=\"tx_bar\"&gt;&lt;/span&gt;&lt;/li&gt;\n",
       "\t\t\t\t\t{{/ifCond}}\n",
       "\t\t\t\t\t&lt;li data-log-actionid-label=\"customer_center\"&gt;&lt;a href=\"http://help.11st.co.kr\" data-ga-event-category=\"PC_GNB\" data-ga-event-action=\"상단유틸\" data-ga-event-label=\"고객센터\"&gt;고객센터&lt;/a&gt;&lt;span class=\"tx_bar\"&gt;&lt;/span&gt;&lt;/li&gt;\n",
       "\t\t\t\t\t&lt;li class=\"have_sub\" data-log-actionid-label=\"seller_office\"&gt;&lt;a href=\"{{_SOFFICE_URL_}}\" data-ga-event-category=\"PC_GNB\" data-ga-event-action=\"상단유틸\" data-ga-event-label=\"셀러오피스\"&gt;셀러오피스&lt;span class=\"ico_arrow\"&gt;&lt;/span&gt;&lt;span class=\"frame\"&gt;&lt;/span&gt;&lt;/a&gt;&lt;span class=\"tx_bar\"&gt;&lt;/span&gt;&lt;!-- 마우스오버시 li에 클래스 on추가 --&gt;\n",
       "\t\t\t\t\t\t&lt;ul class=\"user_sub_menu\"&gt;\n",
       "\t\t\t\t\t\t\t&lt;li data-log-actionid-label=\"seller_ad\"&gt;&lt;a href=\"{{_SOFFICE_URL_}}/adcentre/AdvertMain.tmall\" data-ga-event-category=\"PC_GNB\" data-ga-event-action=\"상단유틸\" data-ga-event-label=\"판매자광고센터\"&gt;판매자광고센터&lt;/a&gt;&lt;/li&gt;\n",
       "\t\t\t\t\t\t\t&lt;li&gt;&lt;a href=\"https://adoffice.11st.co.kr\"&gt;애드 오피스&lt;/a&gt;&lt;/li&gt;\n",
       "\t\t\t\t\t\t\t&lt;li data-log-actionid-label=\"brand_ad\"&gt;&lt;a href=\"{{_GNB_CONTEXT_PATH_}}/brandadcenter/Main.tmall\" data-ga-event-category=\"PC_GNB\" data-ga-event-action=\"상단유틸\" data-ga-event-label=\"브랜드광고센터\"&gt;브랜드광고센터&lt;/a&gt;&lt;/li&gt;\n",
       "\t\t\t\t\t\t\t&lt;li data-log-actionid-label=\"sellerzone\"&gt;&lt;a href=\"{{_SELLER_URL_}}\" data-ga-event-category=\"PC_GNB\" data-ga-event-action=\"상단유틸\" data-ga-event-label=\"셀러존\"&gt;셀러존&lt;/a&gt;&lt;/li&gt;\n",
       "\t\t\t\t\t\t\t&lt;li data-log-actionid-label=\"minimall_mngt\"&gt;&lt;a href=\"{{_SELLER_SHOP_DOMAIN_}}/minimall/AuthMiniMallAction.tmall?method=goRepMinimallMng\" data-ga-event-category=\"PC_GNB\" data-ga-event-action=\"상단유틸\" data-ga-event-label=\"스토어관리\"&gt;스토어관리&lt;/a&gt;&lt;/li&gt;\n",
       "\t\t\t\t\t\t&lt;/ul&gt;\n",
       "\t\t\t\t\t&lt;/li&gt;\n",
       "\t\t\t\t\t&lt;li class=\"have_sub lang_v2\" data-log-actionid-label=\"language\"&gt;&lt;a href=\"http://www.11st.co.kr/html/main.html\" data-ga-event-category=\"PC_GNB\" data-ga-event-action=\"상단유틸\" data-ga-event-label=\"KOREA\"&gt;&lt;span class=\"flag flag_ko\"&gt;&lt;/span&gt; Korea&lt;span class=\"ico_arrow\"&gt;&lt;/span&gt;&lt;span class=\"frame\"&gt;&lt;/span&gt;&lt;/a&gt;\n",
       "\t\t\t\t\t\t&lt;ul class=\"user_sub_menu\"&gt;\n",
       "\t\t\t\t\t\t\t&lt;li&gt;&lt;a href=\"http://global.11st.co.kr/?trlang=en\" data-ga-event-category=\"PC_GNB\" data-ga-event-action=\"상단유틸\" data-ga-event-label=\"ENGLISH\" data-log-body=\"{'language':'english'}\"&gt;&lt;span class=\"flag flag_en\"&gt;&lt;/span&gt; English&lt;/a&gt;&lt;/li&gt;\n",
       "                            &lt;li&gt;&lt;a href=\"http://global.11st.co.kr/?trlang=zh\" data-ga-event-category=\"PC_GNB\" data-ga-event-action=\"상단유틸\" data-ga-event-label=\"중국\" data-log-body=\"{'language':'china'}\"&gt;&lt;span class=\"flag flag_ch\"&gt;&lt;/span&gt; China&lt;/a&gt;&lt;/li&gt;\n",
       "\t\t\t\t\t\t\t&lt;li&gt;&lt;a href=\"http://www.11street.my\" data-ga-event-category=\"PC_GNB\" data-ga-event-action=\"상단유틸\" data-ga-event-label=\"말레이시아\" data-log-body=\"{'language':'malaysia'}\"&gt;&lt;span class=\"flag flag_ma\"&gt;&lt;/span&gt; Malaysia&lt;/a&gt;&lt;/li&gt;\n",
       "\t\t\t\t\t\t\t&lt;li&gt;&lt;a href=\"http://www.elevenia.co.id/\" data-ga-event-category=\"PC_GNB\" data-ga-event-action=\"상단유틸\" data-ga-event-label=\"인도네시아\" data-log-body=\"{'language':'indonesia'}\"&gt;&lt;span class=\"flag flag_in\"&gt;&lt;/span&gt; Indonesia&lt;/a&gt;&lt;/li&gt;\n",
       "\t\t\t\t\t\t\t&lt;li&gt;&lt;a href=\"http://www.n11.com/\" data-ga-event-category=\"PC_GNB\" data-ga-event-action=\"상단유틸\" data-ga-event-label=\"터키\" data-log-body=\"{'language':'turkey'}\"&gt;&lt;span class=\"flag flag_tu\"&gt;&lt;/span&gt; Turkey&lt;/a&gt;&lt;/li&gt;\n",
       "\t\t\t\t\t\t\t&lt;li&gt;&lt;a href=\"http://www.11street.co.th/html/th/main.html\" data-ga-event-category=\"PC_GNB\" data-ga-event-action=\"상단유틸\" data-ga-event-label=\"태국\" data-log-body=\"{'language':'thailand'}\"&gt;&lt;span class=\"flag flag_th\"&gt;&lt;/span&gt; Thailand&lt;/a&gt;&lt;/li&gt;\n",
       "\t\t\t\t\t\t&lt;/ul&gt;\n",
       "\t\t\t\t\t&lt;/li&gt;\n",
       "\t\t\t\t&lt;/ul&gt;\n",
       "\t\t\t&lt;/div&gt;\t\t\n",
       "\t\t&lt;/div&gt;\n",
       "\t&lt;/div&gt;\n",
       "\t&lt;hr&gt;\n",
       "</script>\n",
       "<script type=\"text/javascript\">\n",
       "\tvar IS_AD_BNNR = 'Y';\n",
       "\tvar IS_LEFT_BNNR = true;\n",
       "\tvar ISSSL_ACTION_CONTEXT_URL = 'http://www.11st.co.kr';\n",
       "\tvar AD_URL = '/advert/targeting.tmall?method=getAdBodyContents&amp;invTypeCd=02&amp;uploadUrl=http://i.011st.com&amp;dsUrl=http://ds.11st.co.kr&amp;isSSL=N';\n",
       "\tvar LEFT_WING_URL = '/advert/targeting.tmall?method=getAdBodyContents&amp;invTypeCd=09';\n",
       "\tvar LEFT_WING_UNDER_URL = '/advert/targeting.tmall?method=getAdBodyContents&amp;invTypeCd=10';\n",
       "\tvar strLBanner = '';\n",
       "\tvar isLBComplete = false;\n",
       "\tvar isLeftBnnr  = true;\t\t//왼쪽 배너 ==&gt; 위에 중복.. 정리할 필요 있음 sh.na\n",
       "\tvar isWingBnnr  = true;\t\t//윙 배너\n",
       "\tvar isToastBnnr = true;\t//토스트 배너\n",
       "\tvar isToastBnnrAct = false;\t\t\t\t\t//토스트 배너 동작여부\n",
       "\tvar isPopUnder  = true;\t\t//팝 언더\n",
       "\tvar isHTMLGen = false;\n",
       "\tvar isLeftBnnrMove = true;\n",
       "\tvar isDealMain = false;\n",
       "\n",
       "\t//쇼킹딜 전용 GNB, SNB\n",
       "\tvar DealPageInfo = {\n",
       "\t\t\tTR_TYPE_CD : '',\n",
       "\t\t\tTR_PARAM : ''\n",
       "\t};\n",
       "\n",
       "</script>\n",
       "<script src=\"http://www.11st.co.kr/js/lib/jquery/jquery-1.12.4.min.js\" type=\"text/javascript\"></script>\n",
       "<script src=\"http://www.11st.co.kr/js/common/headerCommonJs.js\" type=\"text/javascript\"></script><script charset=\"euc-kr\" src=\"//www.11st.co.kr/html/reserveKeywordList.js\" type=\"text/javascript\"></script>\n",
       "<script src=\"http://www.11st.co.kr/js/common/inc_header_v7.js\" type=\"text/javascript\"></script>\n",
       "<script src=\"http://www.11st.co.kr/html/nc/deal/inc_shockingDeal_header_data_v6.js\" type=\"text/javascript\"></script>\n",
       "<script src=\"http://www.11st.co.kr/js/service/shockingdeal/v6/ShockingDeal.js\" type=\"text/javascript\"></script>\n",
       "<script src=\"http://www.11st.co.kr/js/lib/handlebars/handlebars-v4.0.5.js\" type=\"text/javascript\"></script>\n",
       "<script src=\"http://www.11st.co.kr/js/rake/RakeData.js\" type=\"text/javascript\"></script>\n",
       "<div id=\"skipNavi\">\n",
       "<a href=\"#layBodyWrap\"><span>본문 바로가기</span></a>\n",
       "</div>\n",
       "<div class=\"resp_layout\" id=\"wrapBody\">\n",
       "<script type=\"text/javascript\">\n",
       "\tHeaderGnb.makeGnb.headerUtilDraw();\n",
       "</script>\n",
       "<div class=\"header_util\" data-is-ab-send=\"1\" data-log-actionid-area=\"header_util\" id=\"headerUtilArea\">\n",
       "<div class=\"inner\">\n",
       "<div class=\"header_utilmenu\">\n",
       "<ul>\n",
       "<li><a class=\"home\" href=\"http://www.11st.co.kr/html/main.html\">11번가</a><span class=\"tx_bar\"></span></li>\n",
       "<li data-log-actionid-label=\"appdown\"><a class=\"appdown\" data-ga-event-action=\"상단유틸\" data-ga-event-category=\"PC_GNB\" data-ga-event-label=\"앱다운로드\" href=\"http://www.11st.co.kr/contents/Contents.tmall?method=dispContents&amp;spceid=2103\" target=\"_blank\"><span class=\"ico\"></span>앱다운로드</a><span class=\"tx_bar\"></span></li>\n",
       "<li class=\"direct\" data-log-actionid-label=\"shortcut\" id=\"go11st_wrap\" style=\"\">\n",
       "<button class=\"btn_direct\" data-ga-event-action=\"상단유틸\" data-ga-event-category=\"PC_GNB\" data-ga-event-label=\"바로가기ON/OFF\" type=\"button\">바로가기</button>\n",
       "<div class=\"lay_nw_def direct_go_wrap\" id=\"lay_direct\">\n",
       "<div class=\"lay_tit\"><em id=\"gbox_text\">바로가기 비접속중</em>입니다.</div>\n",
       "<div class=\"lay_conts cfix\">\n",
       "<div class=\"direct_go\" id=\"divDirectBenefit\"><dl><dt>바로가기 접속 고객님의 특별한 혜택</dt><dd><ol><li>1. 쿠폰존 사용 혜택</li><li>2. 멤버십 등급별 제공되는 쿠폰 사용</li></ol><p class=\"m_benefit\"><span class=\"ico\"></span>모바일 App 접속시 특별한 혜택 적용</p></dd></dl>\n",
       "<dl>\n",
       "<dt>바로가기로 방문하는 방법 </dt>\n",
       "<dd>\n",
       "<ul class=\"cfix\">\n",
       "<li><button class=\"btn_way\" onclick=\"FooterComm.installDirectVisit('');\" type=\"button\">바로가기 설치하기</button></li>\n",
       "<li><button class=\"btn_way\" onclick=\"setHomePage();\" type=\"button\">시작페이지 설정하기</button></li>\n",
       "<li><button class=\"btn_way\" onclick=\"FooterComm.addFavorite();\" type=\"button\">즐겨찾기 추가하기</button></li>\n",
       "<li><button class=\"btn_way\" onclick=\"FooterComm.clip11stUrl();\" type=\"button\">URL 직접 입력하기</button></li>\n",
       "</ul>\n",
       "</dd>\n",
       "</dl>\n",
       "<div class=\"btn_sec\"><a class=\"btn_nw_gray\" href=\"http://www.11st.co.kr/browsing/MallPlanDetail.tmall?method=getMallPlanDetail&amp;planDisplayNumber=905236\">혜택 상세보기</a></div>\n",
       "</div>\n",
       "</div>\n",
       "<button class=\"btn_laycls\" onclick=\"jQuery('#lay_direct').toggle();\" type=\"button\"><span class=\"hide\">레이어 닫기</span></button>\n",
       "</div>\n",
       "</li>\n",
       "</ul>\n",
       "</div>\n",
       "<div class=\"header_user_etc\">\n",
       "<ul>\n",
       "<li data-log-actionid-label=\"loginout\"><a data-ga-event-action=\"상단유틸\" data-ga-event-category=\"PC_GNB\" data-ga-event-label=\"로그인\" data-log-body=\"{'state':'로그아웃'}\" href=\"javascript:void(0);\" id=\"gnbLogin\" onclick=\"login('UT0201',''); rakeLog.sendRakeLog(this);\">로그인</a><span class=\"tx_bar\"></span></li>\n",
       "<li data-log-actionid-label=\"join\"><a data-ga-event-action=\"상단유틸\" data-ga-event-category=\"PC_GNB\" data-ga-event-label=\"회원가입\" href=\"javascript:void(0);\" id=\"gnbMember\" onclick=\"join(''); rakeLog.sendRakeLog(this);\">회원가입</a><span class=\"tx_bar\"></span></li>\n",
       "<li class=\"have_sub\" data-log-actionid-label=\"my11st\" id=\"utMy11st\"><a data-ga-event-action=\"상단유틸\" data-ga-event-category=\"PC_GNB\" data-ga-event-label=\"나의11번가\" href=\"http://buy.11st.co.kr/order/myTmall.tmall?method=getMyTmallMain\">나의11번가<span class=\"ico_arrow\"></span><span class=\"frame\"></span></a><span class=\"tx_bar\"></span>\n",
       "<ul class=\"user_sub_menu\">\n",
       "<li data-log-actionid-label=\"orderdlv_inquiry\"><a data-ga-event-action=\"상단유틸\" data-ga-event-category=\"PC_GNB\" data-ga-event-label=\"주문배송조회\" href=\"http://buy.11st.co.kr/order/OrderList.tmall\">주문배송조회</a></li>\n",
       "<li data-log-actionid-label=\"coupon\"><a data-ga-event-action=\"상단유틸\" data-ga-event-category=\"PC_GNB\" data-ga-event-label=\"쿠폰\" href=\"http://www.11st.co.kr/loyalty/AuthCouponGiftDtls.tmall\">쿠폰</a></li>\n",
       "<li data-log-actionid-label=\"grade\"><a data-ga-event-action=\"상단유틸\" data-ga-event-category=\"PC_GNB\" data-ga-event-label=\"구매등급 혜택\" href=\"http://www.11st.co.kr/register/getGradeInfo.tmall?method=getGrade\">구매등급 혜택</a></li>\n",
       "<li data-log-actionid-label=\"favorite_minimall\"><a data-ga-event-action=\"상단유틸\" data-ga-event-category=\"PC_GNB\" data-ga-event-label=\"단골스토어\" href=\"http://www.11st.co.kr/minimall/MyMiniMallAction.tmall?method=getMyMiniMall\">단골스토어</a></li>\n",
       "</ul>\n",
       "</li>\n",
       "<li data-log-actionid-label=\"cart\"><a data-ga-event-action=\"상단유틸\" data-ga-event-category=\"PC_GNB\" data-ga-event-label=\"장바구니\" href=\"http://buy.11st.co.kr/cart/CartAction.tmall?method=getCartList\">장바구니</a><span class=\"tx_bar\"></span></li>\n",
       "<li data-log-actionid-label=\"customer_center\"><a data-ga-event-action=\"상단유틸\" data-ga-event-category=\"PC_GNB\" data-ga-event-label=\"고객센터\" href=\"http://help.11st.co.kr\">고객센터</a><span class=\"tx_bar\"></span></li>\n",
       "<li class=\"have_sub\" data-log-actionid-label=\"seller_office\"><a data-ga-event-action=\"상단유틸\" data-ga-event-category=\"PC_GNB\" data-ga-event-label=\"셀러오피스\" href=\"http://soffice.11st.co.kr\">셀러오피스<span class=\"ico_arrow\"></span><span class=\"frame\"></span></a><span class=\"tx_bar\"></span><!-- 마우스오버시 li에 클래스 on추가 -->\n",
       "<ul class=\"user_sub_menu\">\n",
       "<li data-log-actionid-label=\"seller_ad\"><a data-ga-event-action=\"상단유틸\" data-ga-event-category=\"PC_GNB\" data-ga-event-label=\"판매자광고센터\" href=\"http://soffice.11st.co.kr/adcentre/AdvertMain.tmall\">판매자광고센터</a></li>\n",
       "<li><a href=\"https://adoffice.11st.co.kr\">애드 오피스</a></li>\n",
       "<li data-log-actionid-label=\"brand_ad\"><a data-ga-event-action=\"상단유틸\" data-ga-event-category=\"PC_GNB\" data-ga-event-label=\"브랜드광고센터\" href=\"http://www.11st.co.kr/brandadcenter/Main.tmall\">브랜드광고센터</a></li>\n",
       "<li data-log-actionid-label=\"sellerzone\"><a data-ga-event-action=\"상단유틸\" data-ga-event-category=\"PC_GNB\" data-ga-event-label=\"셀러존\" href=\"http://seller.11st.co.kr\">셀러존</a></li>\n",
       "<li data-log-actionid-label=\"minimall_mngt\"><a data-ga-event-action=\"상단유틸\" data-ga-event-category=\"PC_GNB\" data-ga-event-label=\"스토어관리\" href=\"http://shop.11st.co.kr/minimall/AuthMiniMallAction.tmall?method=goRepMinimallMng\">스토어관리</a></li>\n",
       "</ul>\n",
       "</li>\n",
       "<li class=\"have_sub lang_v2\" data-log-actionid-label=\"language\"><a data-ga-event-action=\"상단유틸\" data-ga-event-category=\"PC_GNB\" data-ga-event-label=\"KOREA\" href=\"http://www.11st.co.kr/html/main.html\"><span class=\"flag flag_ko\"></span> Korea<span class=\"ico_arrow\"></span><span class=\"frame\"></span></a>\n",
       "<ul class=\"user_sub_menu\">\n",
       "<li><a data-ga-event-action=\"상단유틸\" data-ga-event-category=\"PC_GNB\" data-ga-event-label=\"ENGLISH\" data-log-body=\"{'language':'english'}\" href=\"http://global.11st.co.kr/?trlang=en\"><span class=\"flag flag_en\"></span> English</a></li>\n",
       "<li><a data-ga-event-action=\"상단유틸\" data-ga-event-category=\"PC_GNB\" data-ga-event-label=\"중국\" data-log-body=\"{'language':'china'}\" href=\"http://global.11st.co.kr/?trlang=zh\"><span class=\"flag flag_ch\"></span> China</a></li>\n",
       "<li><a data-ga-event-action=\"상단유틸\" data-ga-event-category=\"PC_GNB\" data-ga-event-label=\"말레이시아\" data-log-body=\"{'language':'malaysia'}\" href=\"http://www.11street.my\"><span class=\"flag flag_ma\"></span> Malaysia</a></li>\n",
       "<li><a data-ga-event-action=\"상단유틸\" data-ga-event-category=\"PC_GNB\" data-ga-event-label=\"인도네시아\" data-log-body=\"{'language':'indonesia'}\" href=\"http://www.elevenia.co.id/\"><span class=\"flag flag_in\"></span> Indonesia</a></li>\n",
       "<li><a data-ga-event-action=\"상단유틸\" data-ga-event-category=\"PC_GNB\" data-ga-event-label=\"터키\" data-log-body=\"{'language':'turkey'}\" href=\"http://www.n11.com/\"><span class=\"flag flag_tu\"></span> Turkey</a></li>\n",
       "<li><a data-ga-event-action=\"상단유틸\" data-ga-event-category=\"PC_GNB\" data-ga-event-label=\"태국\" data-log-body=\"{'language':'thailand'}\" href=\"http://www.11street.co.th/html/th/main.html\"><span class=\"flag flag_th\"></span> Thailand</a></li>\n",
       "</ul>\n",
       "</li>\n",
       "</ul>\n",
       "</div>\n",
       "</div>\n",
       "</div>\n",
       "<hr/>\n",
       "<div id=\"header\">\n",
       "<!-- header_sch_area -->\n",
       "<div class=\"header_sch_area\">\n",
       "<div class=\"inner\">\n",
       "<div class=\"header_sch\">\n",
       "<h1 class=\"hd\"><a href=\"javascript:void(0);\" onclick=\"goStatUrl('http://deal.11st.co.kr/html/nc/deal/main.html','DEA0101');ga('send','event','PC_쇼킹딜_GNB','상단영역_로고','\"></a></h1></div></div></div></div></div></body></html>"
      ]
     },
     "execution_count": 89,
     "metadata": {},
     "output_type": "execute_result"
    }
   ],
   "source": [
    "content"
   ]
  },
  {
   "cell_type": "markdown",
   "metadata": {},
   "source": [
    "##### category "
   ]
  },
  {
   "cell_type": "code",
   "execution_count": 92,
   "metadata": {},
   "outputs": [],
   "source": [
    "category = driver.find_element_by_css_selector('#headSel_3')"
   ]
  },
  {
   "cell_type": "code",
   "execution_count": 94,
   "metadata": {},
   "outputs": [
    {
     "name": "stdout",
     "output_type": "stream",
     "text": [
      "유아식\n"
     ]
    }
   ],
   "source": [
    "category = category.text\n",
    "print(category)"
   ]
  },
  {
   "cell_type": "markdown",
   "metadata": {},
   "source": [
    "##### Title"
   ]
  },
  {
   "cell_type": "code",
   "execution_count": 95,
   "metadata": {},
   "outputs": [],
   "source": [
    "title = driver.find_element_by_css_selector('.heading h2')"
   ]
  },
  {
   "cell_type": "code",
   "execution_count": 98,
   "metadata": {},
   "outputs": [
    {
     "name": "stdout",
     "output_type": "stream",
     "text": [
      "[내아이애]아기부터 어른까지 유기농 과자 특가(10+2)\n"
     ]
    }
   ],
   "source": [
    "title = title.text\n",
    "print(title)"
   ]
  },
  {
   "cell_type": "markdown",
   "metadata": {},
   "source": [
    "##### Price\n",
    "- 기본 price\n",
    "- 옵션 선택에서 max price 찾아서 '최소~최대' 로 나타내줘야할까?  \n",
    "- 옵션에 있는 상품도 가져와 최저가 비교 (이렇게 해야 레알 최저가 비교 아닐까?)\n",
    "- 품절인거 빼야함 --> 알아서 blocking 되있기 때문에 별도의 처리 x "
   ]
  },
  {
   "cell_type": "code",
   "execution_count": 99,
   "metadata": {},
   "outputs": [
    {
     "name": "stdout",
     "output_type": "stream",
     "text": [
      "1,500\n"
     ]
    }
   ],
   "source": [
    "price = driver.find_element_by_css_selector('.price_detail strong').text\n",
    "print(price)"
   ]
  },
  {
   "cell_type": "code",
   "execution_count": 110,
   "metadata": {},
   "outputs": [],
   "source": [
    "options = driver.find_elements_by_css_selector('.ui_option_list .prdc_price em')"
   ]
  },
  {
   "cell_type": "code",
   "execution_count": 111,
   "metadata": {},
   "outputs": [
    {
     "data": {
      "text/plain": [
       "51"
      ]
     },
     "execution_count": 111,
     "metadata": {},
     "output_type": "execute_result"
    }
   ],
   "source": [
    "len(options)"
   ]
  },
  {
   "cell_type": "code",
   "execution_count": 117,
   "metadata": {},
   "outputs": [
    {
     "data": {
      "text/plain": [
       "'1980'"
      ]
     },
     "execution_count": 117,
     "metadata": {},
     "output_type": "execute_result"
    }
   ],
   "source": [
    "# 옵션 첫번째 값 확인\n",
    "a = options[0].text\n",
    "re.sub(r'\\W','',a)"
   ]
  },
  {
   "cell_type": "code",
   "execution_count": 119,
   "metadata": {},
   "outputs": [],
   "source": [
    "# 옵션 값 중에서 가장 큰 값 \n",
    "maxPrice = 0\n",
    "for option in options:\n",
    "    option = option.text\n",
    "    option = int(re.sub(r'\\W','',option))\n",
    "    if maxPrice < option:\n",
    "        maxPrice = option"
   ]
  },
  {
   "cell_type": "code",
   "execution_count": 120,
   "metadata": {},
   "outputs": [
    {
     "data": {
      "text/plain": [
       "2890"
      ]
     },
     "execution_count": 120,
     "metadata": {},
     "output_type": "execute_result"
    }
   ],
   "source": [
    "maxPrice"
   ]
  },
  {
   "cell_type": "markdown",
   "metadata": {},
   "source": [
    "##### Photo \n",
    "- base64"
   ]
  },
  {
   "cell_type": "code",
   "execution_count": null,
   "metadata": {},
   "outputs": [],
   "source": []
  }
 ],
 "metadata": {
  "kernelspec": {
   "display_name": "Python 3",
   "language": "python",
   "name": "python3"
  },
  "language_info": {
   "codemirror_mode": {
    "name": "ipython",
    "version": 3
   },
   "file_extension": ".py",
   "mimetype": "text/x-python",
   "name": "python",
   "nbconvert_exporter": "python",
   "pygments_lexer": "ipython3",
   "version": "3.6.6"
  }
 },
 "nbformat": 4,
 "nbformat_minor": 2
}
